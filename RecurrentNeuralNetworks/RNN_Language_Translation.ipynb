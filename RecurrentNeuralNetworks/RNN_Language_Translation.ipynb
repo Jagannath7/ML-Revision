{
  "nbformat": 4,
  "nbformat_minor": 0,
  "metadata": {
    "colab": {
      "name": "RNN-Language-Translation.ipynb",
      "private_outputs": true,
      "provenance": [],
      "collapsed_sections": []
    },
    "accelerator": "GPU",
    "kernelspec": {
      "name": "python3",
      "display_name": "Python 3"
    }
  },
  "cells": [
    {
      "cell_type": "code",
      "metadata": {
        "id": "UCVsyV6fQFJH"
      },
      "source": [
        "!wget http://www.manythings.org/anki/deu-eng.zip"
      ],
      "execution_count": null,
      "outputs": []
    },
    {
      "cell_type": "code",
      "metadata": {
        "id": "W0YxAxR4QPvv"
      },
      "source": [
        "!unzip deu-eng.zip"
      ],
      "execution_count": null,
      "outputs": []
    },
    {
      "cell_type": "code",
      "metadata": {
        "id": "uGZsR3j3TTaZ"
      },
      "source": [
        "import numpy as np"
      ],
      "execution_count": null,
      "outputs": []
    },
    {
      "cell_type": "code",
      "metadata": {
        "id": "g6sG7SXKQeJz"
      },
      "source": [
        "def read_text(filename):\r\n",
        "    file = open(filename, mode='rt', encoding='utf-8')\r\n",
        "    text = file.read()\r\n",
        "    file.close()\r\n",
        "    return text\r\n",
        "\r\n",
        "def to_lines(text):\r\n",
        "    pairs = text.strip().split('\\n')\r\n",
        "    sents = [p.split('\\t') for p in pairs]\r\n",
        "    return sents"
      ],
      "execution_count": null,
      "outputs": []
    },
    {
      "cell_type": "code",
      "metadata": {
        "id": "Y992b4ozS40a"
      },
      "source": [
        "data = read_text('deu.txt')\r\n",
        "deu_eng = to_lines(data)\r\n",
        "deu_eng = np.array(deu_eng)"
      ],
      "execution_count": null,
      "outputs": []
    },
    {
      "cell_type": "code",
      "metadata": {
        "id": "o7Yf9cYDTOcG"
      },
      "source": [
        "deu_eng[0]"
      ],
      "execution_count": null,
      "outputs": []
    },
    {
      "cell_type": "code",
      "metadata": {
        "id": "P0YaHhfRTYwn"
      },
      "source": [
        "len(deu_eng)"
      ],
      "execution_count": null,
      "outputs": []
    },
    {
      "cell_type": "code",
      "metadata": {
        "id": "-688UykgTcNS"
      },
      "source": [
        "deu_eng = deu_eng[:50000, :]"
      ],
      "execution_count": null,
      "outputs": []
    },
    {
      "cell_type": "code",
      "metadata": {
        "id": "MhOPr9w7TkKK"
      },
      "source": [
        "import string\r\n",
        "\r\n",
        "deu_eng[:,0] = [s.translate(str.maketrans('','',string.punctuation)) for s in deu_eng[:,0]]"
      ],
      "execution_count": null,
      "outputs": []
    },
    {
      "cell_type": "code",
      "metadata": {
        "id": "fSz9xy_kUC3t"
      },
      "source": [
        "deu_eng[:,1] = [s.translate(str.maketrans('','',string.punctuation)) for s in deu_eng[:,1]]"
      ],
      "execution_count": null,
      "outputs": []
    },
    {
      "cell_type": "code",
      "metadata": {
        "id": "22mavxnMUQl0"
      },
      "source": [
        "deu_eng"
      ],
      "execution_count": null,
      "outputs": []
    },
    {
      "cell_type": "code",
      "metadata": {
        "id": "8mGDe0MhUSM6"
      },
      "source": [
        "for i in range(len(deu_eng)):\r\n",
        "    deu_eng[i,0] = deu_eng[i,0].lower()\r\n",
        "    deu_eng[i,1] = deu_eng[i,1].lower()"
      ],
      "execution_count": null,
      "outputs": []
    },
    {
      "cell_type": "code",
      "metadata": {
        "id": "Rr1AqdBIUk3l"
      },
      "source": [
        "import matplotlib.pyplot as plt\r\n",
        "%matplotlib inline\r\n",
        "import pandas as pd"
      ],
      "execution_count": null,
      "outputs": []
    },
    {
      "cell_type": "code",
      "metadata": {
        "id": "CmiUUlo_Uws3"
      },
      "source": [
        "eng_len = [len(s.split()) for s in deu_eng[:,0]]\r\n",
        "deu_len = [len(s.split()) for s in deu_eng[:,1]]"
      ],
      "execution_count": null,
      "outputs": []
    },
    {
      "cell_type": "code",
      "metadata": {
        "id": "8-37uZKHU9mu"
      },
      "source": [
        "lengths_df = pd.DataFrame({'eng':eng_len, 'deu': deu_len})\r\n",
        "lengths_df.hist(bins=30)\r\n",
        "plt.show()"
      ],
      "execution_count": null,
      "outputs": []
    },
    {
      "cell_type": "code",
      "metadata": {
        "id": "7U2QBtB1VOfY"
      },
      "source": [
        "print(max(eng_len))\r\n",
        "print(max(deu_len))"
      ],
      "execution_count": null,
      "outputs": []
    },
    {
      "cell_type": "code",
      "metadata": {
        "id": "McnQczcCVpfm"
      },
      "source": [
        "from keras.preprocessing.text import Tokenizer\r\n",
        "from keras.preprocessing.sequence import pad_sequences"
      ],
      "execution_count": null,
      "outputs": []
    },
    {
      "cell_type": "code",
      "metadata": {
        "id": "XFSw7pfTV5mc"
      },
      "source": [
        "eng_tokenizer = Tokenizer()\r\n",
        "eng_tokenizer.fit_on_texts(deu_eng[:, 0])\r\n",
        "eng_vocab_size = len(eng_tokenizer.word_index) + 1\r\n",
        "print(eng_vocab_size)"
      ],
      "execution_count": null,
      "outputs": []
    },
    {
      "cell_type": "code",
      "metadata": {
        "id": "kgZ6gLOKWSjb"
      },
      "source": [
        "deu_tokenizer = Tokenizer()\r\n",
        "deu_tokenizer.fit_on_texts(deu_eng[:, 1])\r\n",
        "deu_vocab_size = len(deu_tokenizer.word_index) + 1\r\n",
        "print(deu_vocab_size)"
      ],
      "execution_count": null,
      "outputs": []
    },
    {
      "cell_type": "code",
      "metadata": {
        "id": "DW3k9LVdWwId"
      },
      "source": [
        "eng_max_length = 8\r\n",
        "deu_max_length = 8"
      ],
      "execution_count": null,
      "outputs": []
    },
    {
      "cell_type": "code",
      "metadata": {
        "id": "9J3G6SKvW8CN"
      },
      "source": [
        "def encode_sequences(tokenizer, length, lines):\r\n",
        "    sequence = tokenizer.texts_to_sequences(lines)\r\n",
        "    sequence = pad_sequences(sequence, maxlen=length, padding='post')\r\n",
        "    return sequence"
      ],
      "execution_count": null,
      "outputs": []
    },
    {
      "cell_type": "code",
      "metadata": {
        "id": "Z7lJ3WzVXp7Z"
      },
      "source": [
        "from sklearn.model_selection import train_test_split"
      ],
      "execution_count": null,
      "outputs": []
    },
    {
      "cell_type": "code",
      "metadata": {
        "id": "xWst9sQuX8Ow"
      },
      "source": [
        "train, test = train_test_split(deu_eng, test_size = 0.2, random_state = 12)"
      ],
      "execution_count": null,
      "outputs": []
    },
    {
      "cell_type": "code",
      "metadata": {
        "id": "R6uokKbRYHqj"
      },
      "source": [
        "Xtrain = encode_sequences(deu_tokenizer,deu_max_length, train[:, 1])\r\n",
        "\r\n",
        "Ytrain = encode_sequences(eng_tokenizer,eng_max_length, train[:, 0])\r\n",
        "\r\n",
        "print(Xtrain.shape, Ytrain.shape)"
      ],
      "execution_count": null,
      "outputs": []
    },
    {
      "cell_type": "code",
      "metadata": {
        "id": "phUaJNg_YjP4"
      },
      "source": [
        "print(Xtrain[0])"
      ],
      "execution_count": null,
      "outputs": []
    },
    {
      "cell_type": "code",
      "metadata": {
        "id": "VerLEV6OYzOx"
      },
      "source": [
        "print(Ytrain[0])"
      ],
      "execution_count": null,
      "outputs": []
    },
    {
      "cell_type": "code",
      "metadata": {
        "id": "mFAdu87fY1yX"
      },
      "source": [
        "Xtest = encode_sequences(deu_tokenizer,deu_max_length, test[:, 1])\r\n",
        "\r\n",
        "Ytest = encode_sequences(eng_tokenizer,eng_max_length, test[:, 0])"
      ],
      "execution_count": null,
      "outputs": []
    },
    {
      "cell_type": "code",
      "metadata": {
        "id": "-cKkXhu0ZDtE"
      },
      "source": [
        "print(Xtest.shape, Ytest.shape)"
      ],
      "execution_count": null,
      "outputs": []
    },
    {
      "cell_type": "code",
      "metadata": {
        "id": "-Y9pGQtnZHEA"
      },
      "source": [
        "from keras.models import Sequential\r\n",
        "from keras.layers import Dense, LSTM, Embedding, RepeatVector\r\n",
        "from keras import optimizers\r\n",
        "from keras.callbacks import ModelCheckpoint"
      ],
      "execution_count": null,
      "outputs": []
    },
    {
      "cell_type": "code",
      "metadata": {
        "id": "3jE-YsxiZdFN"
      },
      "source": [
        "model = Sequential()\r\n",
        "model.add(Embedding(deu_vocab_size, 512, input_length=deu_max_length, mask_zero=True))\r\n",
        "model.add(LSTM(512))\r\n",
        "model.add(RepeatVector(eng_max_length))\r\n",
        "model.add(LSTM(512, return_sequences= True))\r\n",
        "model.add(Dense(eng_vocab_size, activation='softmax'))"
      ],
      "execution_count": null,
      "outputs": []
    },
    {
      "cell_type": "code",
      "metadata": {
        "id": "vufnprdiZ3sS"
      },
      "source": [
        "model.summary()"
      ],
      "execution_count": null,
      "outputs": []
    },
    {
      "cell_type": "code",
      "metadata": {
        "id": "egziccp7Z6XM"
      },
      "source": [
        "rms = optimizers.RMSprop(learning_rate=0.001)"
      ],
      "execution_count": null,
      "outputs": []
    },
    {
      "cell_type": "code",
      "metadata": {
        "id": "PQuuskMCaAvG"
      },
      "source": [
        "model.compile(optimizer=rms, loss='sparse_categorical_crossentropy')"
      ],
      "execution_count": null,
      "outputs": []
    },
    {
      "cell_type": "code",
      "metadata": {
        "id": "tWIq6k1XaKeq"
      },
      "source": [
        "filename = 'model.h1'\r\n",
        "checkpoint = ModelCheckpoint(filename, monitor='val_loss', mode='min', save_best_only=True, verbose=1)"
      ],
      "execution_count": null,
      "outputs": []
    },
    {
      "cell_type": "code",
      "metadata": {
        "id": "N_3X5LL2acOe"
      },
      "source": [
        "history = model.fit(Xtrain, Ytrain.reshape(40000, 8, 1), epochs=30, batch_size=512, validation_split=0.2, callbacks=[checkpoint], verbose=1)"
      ],
      "execution_count": null,
      "outputs": []
    },
    {
      "cell_type": "code",
      "metadata": {
        "id": "5d9qq-Hca4xa"
      },
      "source": [
        "plt.plot(history.history['loss'])\r\n",
        "plt.plot(history.history['val_loss'])\r\n",
        "plt.legend(['train', 'validation'])\r\n",
        "plt.show()"
      ],
      "execution_count": null,
      "outputs": []
    },
    {
      "cell_type": "code",
      "metadata": {
        "id": "8fvsPsWe33xk"
      },
      "source": [
        "from keras.models import load_model"
      ],
      "execution_count": null,
      "outputs": []
    },
    {
      "cell_type": "code",
      "metadata": {
        "id": "rhvCler54Dit"
      },
      "source": [
        "model = load_model(filename)"
      ],
      "execution_count": null,
      "outputs": []
    },
    {
      "cell_type": "code",
      "metadata": {
        "id": "6gBCY3O74GDC"
      },
      "source": [
        "print(Xtest.shape)"
      ],
      "execution_count": null,
      "outputs": []
    },
    {
      "cell_type": "code",
      "metadata": {
        "id": "BkU6GcKg4L1y"
      },
      "source": [
        "predictions = model.predict_classes(Xtest)\r\n",
        "\r\n",
        "dict_eng = { t:w for w,t in eng_tokenizer.word_index.items() }"
      ],
      "execution_count": null,
      "outputs": []
    },
    {
      "cell_type": "code",
      "metadata": {
        "id": "n4p_DovU4rJm"
      },
      "source": [
        "eng_preds = []\r\n",
        "\r\n",
        "for p in predictions: \r\n",
        "    sent = []\r\n",
        "    for t in p:\r\n",
        "        word = dict_eng.get(t) if t > 0 else ''\r\n",
        "        sent.append(word)\r\n",
        "    eng_preds.append(' '.join(sent))"
      ],
      "execution_count": null,
      "outputs": []
    },
    {
      "cell_type": "code",
      "metadata": {
        "id": "qp2gksIb5OOK"
      },
      "source": [
        "pred_df = pd.DataFrame({'actual': test[:, 0], 'predicted': eng_preds})\r\n",
        "pred_df.head()"
      ],
      "execution_count": null,
      "outputs": []
    },
    {
      "cell_type": "code",
      "metadata": {
        "id": "XKJwD3Ad537C"
      },
      "source": [
        "pred_df.head(20)"
      ],
      "execution_count": null,
      "outputs": []
    },
    {
      "cell_type": "code",
      "metadata": {
        "id": "gY02tSOS6q9i"
      },
      "source": [
        "pred_df.tail(20)"
      ],
      "execution_count": null,
      "outputs": []
    },
    {
      "cell_type": "code",
      "metadata": {
        "id": "INqnIl2k6zOf"
      },
      "source": [
        "pred_df.sample(15)"
      ],
      "execution_count": null,
      "outputs": []
    },
    {
      "cell_type": "code",
      "metadata": {
        "id": "UpAxsf9o69W4"
      },
      "source": [
        ""
      ],
      "execution_count": null,
      "outputs": []
    }
  ]
}