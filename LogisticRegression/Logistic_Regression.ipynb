{
 "cells": [
  {
   "cell_type": "code",
   "execution_count": 36,
   "metadata": {},
   "outputs": [],
   "source": [
    "import numpy as np\n",
    "import matplotlib.pyplot as plt\n",
    "%matplotlib inline"
   ]
  },
  {
   "cell_type": "code",
   "execution_count": 37,
   "metadata": {},
   "outputs": [
    {
     "name": "stdout",
     "output_type": "stream",
     "text": [
      "(500, 2) (500, 2)\n"
     ]
    }
   ],
   "source": [
    "m1, cov1 = [1, 5], [[1, 0.1], [0.1, 1]]\n",
    "m2, cov2 = [4, 6], [[1,0.1], [0.1, 0.2]]\n",
    "\n",
    "dist1 = np.random.multivariate_normal(m1, cov1, 500)\n",
    "dist2 = np.random.multivariate_normal(m2, cov2, 500)\n",
    "\n",
    "print(dist1.shape, dist2.shape)"
   ]
  },
  {
   "cell_type": "code",
   "execution_count": 38,
   "metadata": {},
   "outputs": [
    {
     "data": {
      "image/png": "[encoded data removed]",
      "text/plain": [
       "<Figure size 432x288 with 1 Axes>"
      ]
     },
     "metadata": {
      "needs_background": "light"
     },
     "output_type": "display_data"
    }
   ],
   "source": [
    "plt.scatter(dist1[:, 0], dist1[:, 1])\n",
    "plt.scatter(dist2[:, 0], dist2[:, 1])\n",
    "plt.show()"
   ]
  },
  {
   "cell_type": "code",
   "execution_count": 39,
   "metadata": {},
   "outputs": [
    {
     "name": "stdout",
     "output_type": "stream",
     "text": [
      "(1000, 3)\n"
     ]
    }
   ],
   "source": [
    "data = np.zeros((1000, 3))\n",
    "data[:500, :2] = dist1\n",
    "data[500:, :2] = dist2\n",
    "data[500:, -1] = 1\n",
    "print(data.shape)"
   ]
  },
  {
   "cell_type": "code",
   "execution_count": 40,
   "metadata": {},
   "outputs": [
    {
     "data": {
      "text/plain": [
       "array([[ 4.46691801,  6.20178561,  1.        ],\n",
       "       [-0.05532484,  4.96153564,  0.        ],\n",
       "       [ 1.2492427 ,  4.06718104,  0.        ],\n",
       "       [-0.99959082,  4.79594483,  0.        ],\n",
       "       [ 1.34876009,  5.51920116,  0.        ],\n",
       "       [ 4.47744662,  6.65988449,  1.        ],\n",
       "       [ 1.56178902,  4.67210306,  0.        ],\n",
       "       [ 3.08909344,  6.14334845,  1.        ],\n",
       "       [ 1.76241933,  4.83799547,  0.        ],\n",
       "       [ 1.67435057,  4.16204683,  0.        ]])"
      ]
     },
     "execution_count": 40,
     "metadata": {},
     "output_type": "execute_result"
    }
   ],
   "source": [
    "np.random.shuffle(data)\n",
    "data[:10]"
   ]
  },
  {
   "cell_type": "code",
   "execution_count": 41,
   "metadata": {},
   "outputs": [],
   "source": [
    "from sklearn.model_selection import train_test_split"
   ]
  },
  {
   "cell_type": "code",
   "execution_count": 42,
   "metadata": {},
   "outputs": [
    {
     "name": "stdout",
     "output_type": "stream",
     "text": [
      "(750, 2) (750,)\n",
      "(250, 2) (250,)\n"
     ]
    }
   ],
   "source": [
    "xtrain, xtest, ytrain, ytest = train_test_split(data[:,:2], data[:, -1])\n",
    "print(xtrain.shape, ytrain.shape)\n",
    "print(xtest.shape, ytest.shape)"
   ]
  },
  {
   "cell_type": "code",
   "execution_count": 43,
   "metadata": {},
   "outputs": [],
   "source": [
    "def sigmoid(z):\n",
    "    return 1/(1 + np.exp(-1*z))"
   ]
  },
  {
   "cell_type": "code",
   "execution_count": 44,
   "metadata": {},
   "outputs": [],
   "source": [
    "def hypothesis(X, W, b):\n",
    "    h = (X*W).sum() + b\n",
    "    return sigmoid(h)"
   ]
  },
  {
   "cell_type": "code",
   "execution_count": 45,
   "metadata": {},
   "outputs": [],
   "source": [
    "def log_likelihood(X, W, b, y):\n",
    "    total = 0.0\n",
    "    m = X.shape[0]\n",
    "    for i in range(m):\n",
    "        if y[i]==0:\n",
    "            total += np.log(1 - hypothesis(X[i], W, b))\n",
    "        else:\n",
    "            total += np.log(hypothesis(X[i], W, b))\n",
    "    total /= m\n",
    "    return total"
   ]
  },
  {
   "cell_type": "code",
   "execution_count": 46,
   "metadata": {},
   "outputs": [],
   "source": [
    "def gradient_ascent(X, W, b, y, learning_rate=0.1):\n",
    "    m = X.shape[0]\n",
    "    gradW = np.zeros(2)\n",
    "    gradb = 0.0\n",
    "    for i in range(m):\n",
    "        gradW += (y[i] - hypothesis(X[i], W ,b)) * X[i]\n",
    "        gradb += (y[i] - hypothesis(X[i], W ,b)) * 1\n",
    "    gradW /= m\n",
    "    gradb /= m\n",
    "    \n",
    "    W += learning_rate*gradW\n",
    "    b += learning_rate*gradb\n",
    "    logs = log_likelihood(X, W, b, y)\n",
    "    return W, b, logs"
   ]
  },
  {
   "cell_type": "code",
   "execution_count": 47,
   "metadata": {},
   "outputs": [
    {
     "name": "stdout",
     "output_type": "stream",
     "text": [
      "[ 2.28663891 -1.11280143]\n",
      "0.6514543843955013\n"
     ]
    }
   ],
   "source": [
    "W = np.array([0.5, 0.5])\n",
    "b = 2.2\n",
    "logs_list =[]\n",
    "for i in range(500):\n",
    "    W, b, logs = gradient_ascent(xtrain, W, b, ytrain)\n",
    "    logs_list.append(logs)\n",
    "print(W)\n",
    "print(b)"
   ]
  },
  {
   "cell_type": "code",
   "execution_count": 48,
   "metadata": {},
   "outputs": [
    {
     "data": {
      "image/png": "[encoded data removed]",
      "text/plain": [
       "<Figure size 432x288 with 1 Axes>"
      ]
     },
     "metadata": {
      "needs_background": "light"
     },
     "output_type": "display_data"
    }
   ],
   "source": [
    "plt.plot(logs_list)\n",
    "plt.show()"
   ]
  },
  {
   "cell_type": "code",
   "execution_count": 49,
   "metadata": {},
   "outputs": [],
   "source": [
    "def predict(x_sample, W, b):\n",
    "    pred = hypothesis(x_sample, W, b)\n",
    "    if pred < 0.5:\n",
    "        return 0\n",
    "    else:\n",
    "        return 1"
   ]
  },
  {
   "cell_type": "code",
   "execution_count": 50,
   "metadata": {},
   "outputs": [],
   "source": [
    "def score(Xtest, Ytest, W, b):\n",
    "    preds = []\n",
    "    m = Xtest.shape[0]\n",
    "    for i in range(m):\n",
    "        p = predict(Xtest[i], W, b)\n",
    "        preds.append(p)\n",
    "    preds = np.asarray(preds)\n",
    "    return (preds==Ytest).sum() * 100 / m"
   ]
  },
  {
   "cell_type": "code",
   "execution_count": 51,
   "metadata": {},
   "outputs": [
    {
     "data": {
      "text/plain": [
       "87.6"
      ]
     },
     "execution_count": 51,
     "metadata": {},
     "output_type": "execute_result"
    }
   ],
   "source": [
    "score(xtest, ytest, W, b)"
   ]
  },
  {
   "cell_type": "code",
   "execution_count": 58,
   "metadata": {},
   "outputs": [
    {
     "data": {
      "image/png": "[encoded data removed]",
      "text/plain": [
       "<Figure size 432x288 with 1 Axes>"
      ]
     },
     "metadata": {
      "needs_background": "light"
     },
     "output_type": "display_data"
    }
   ],
   "source": [
    "plt.scatter(dist1[:, 0], dist1[:, 1])\n",
    "plt.scatter(dist2[:, 0], dist2[:, 1], color='yellow')\n",
    "\n",
    "m = xtest.shape[0]\n",
    "for i in range(m):\n",
    "    x = xtest[i]\n",
    "    p = predict(x, W, b)\n",
    "    if p == 0:\n",
    "        plt.plot(x[0], x[1], 'r.')\n",
    "    else:\n",
    "        plt.plot(x[0], x[1], 'g.')\n",
    "plt.show()"
   ]
  },
  {
   "cell_type": "code",
   "execution_count": null,
   "metadata": {},
   "outputs": [],
   "source": []
  }
 ],
 "metadata": {
  "kernelspec": {
   "display_name": "Python 3",
   "language": "python",
   "name": "python3"
  },
  "language_info": {
   "codemirror_mode": {
    "name": "ipython",
    "version": 3
   },
   "file_extension": ".py",
   "mimetype": "text/x-python",
   "name": "python",
   "nbconvert_exporter": "python",
   "pygments_lexer": "ipython3",
   "version": "3.6.6"
  }
 },
 "nbformat": 4,
 "nbformat_minor": 4
}
