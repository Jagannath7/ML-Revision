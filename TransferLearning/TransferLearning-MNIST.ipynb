{
 "cells": [
  {
   "cell_type": "code",
   "execution_count": 2,
   "metadata": {},
   "outputs": [],
   "source": [
    "import numpy as np\n",
    "import matplotlib.pyplot as plt\n",
    "%matplotlib inline\n",
    "from keras.datasets import mnist"
   ]
  },
  {
   "cell_type": "code",
   "execution_count": 3,
   "metadata": {},
   "outputs": [],
   "source": [
    "(xtrain, ytrain), (xtest, ytest) = mnist.load_data()"
   ]
  },
  {
   "cell_type": "code",
   "execution_count": 4,
   "metadata": {},
   "outputs": [
    {
     "name": "stdout",
     "output_type": "stream",
     "text": [
      "(60000, 28, 28) (10000, 28, 28)\n",
      "(60000,) (10000,)\n"
     ]
    }
   ],
   "source": [
    "print(xtrain.shape, xtest.shape)\n",
    "print(ytrain.shape, ytest.shape)"
   ]
  },
  {
   "cell_type": "code",
   "execution_count": 5,
   "metadata": {},
   "outputs": [
    {
     "ename": "SyntaxError",
     "evalue": "unexpected EOF while parsing (<ipython-input-5-ee68b646d64f>, line 13)",
     "output_type": "error",
     "traceback": [
      "\u001b[1;36m  File \u001b[1;32m\"<ipython-input-5-ee68b646d64f>\"\u001b[1;36m, line \u001b[1;32m13\u001b[0m\n\u001b[1;33m    if ytrain[i]<5:\u001b[0m\n\u001b[1;37m                   ^\u001b[0m\n\u001b[1;31mSyntaxError\u001b[0m\u001b[1;31m:\u001b[0m unexpected EOF while parsing\n"
     ]
    }
   ],
   "source": [
    "pt_xtrain = []\n",
    "pt_ytrain = []\n",
    "pt_xtest = []\n",
    "pt_ytest = []\n",
    "\n",
    "tl_xtrain = []\n",
    "tl_ytrain = []\n",
    "tl_xtest = []\n",
    "tl_yest = []\n",
    "\n",
    "m = 20000\n",
    "for i in range(m):\n",
    "    if ytrain[i]<5:\n",
    "        pt_xtrain.append(xtrain[i])\n",
    "        pt_ytrain.append(ytrain[i])\n",
    "    else:\n",
    "        tl_xtrain.append(xtrain[i])\n",
    "        tl_ytrain.append(ytrain[i])\n",
    "\n",
    "m2 = 10000\n",
    "for i in range(m2):\n",
    "    if ytrain[i]<5:\n",
    "        pt_xtrain.append(xtrain[i])\n",
    "        pt_ytrain.append(ytrain[i])\n",
    "    else:\n",
    "        tl_xtrain.append(xtrain[i])\n",
    "        tl_ytrain.append(ytrain[i])\n"
   ]
  },
  {
   "cell_type": "code",
   "execution_count": null,
   "metadata": {},
   "outputs": [],
   "source": []
  }
 ],
 "metadata": {
  "kernelspec": {
   "display_name": "Python 3",
   "language": "python",
   "name": "python3"
  },
  "language_info": {
   "codemirror_mode": {
    "name": "ipython",
    "version": 3
   },
   "file_extension": ".py",
   "mimetype": "text/x-python",
   "name": "python",
   "nbconvert_exporter": "python",
   "pygments_lexer": "ipython3",
   "version": "3.6.6"
  }
 },
 "nbformat": 4,
 "nbformat_minor": 4
}
