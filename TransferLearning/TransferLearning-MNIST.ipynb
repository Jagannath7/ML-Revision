{
 "cells": [
  {
   "cell_type": "code",
   "execution_count": 1,
   "metadata": {},
   "outputs": [],
   "source": [
    "import numpy as np\n",
    "import matplotlib.pyplot as plt\n",
    "%matplotlib inline\n",
    "from keras.datasets import mnist"
   ]
  },
  {
   "cell_type": "code",
   "execution_count": 2,
   "metadata": {},
   "outputs": [],
   "source": [
    "(xtrain, ytrain), (xtest, ytest) = mnist.load_data()"
   ]
  },
  {
   "cell_type": "code",
   "execution_count": 3,
   "metadata": {},
   "outputs": [
    {
     "name": "stdout",
     "output_type": "stream",
     "text": [
      "(60000, 28, 28) (10000, 28, 28)\n",
      "(60000,) (10000,)\n"
     ]
    }
   ],
   "source": [
    "print(xtrain.shape, xtest.shape)\n",
    "print(ytrain.shape, ytest.shape)"
   ]
  },
  {
   "cell_type": "code",
   "execution_count": 4,
   "metadata": {},
   "outputs": [],
   "source": [
    "# data for pre-trained model\n",
    "pt_xtrain = []\n",
    "pt_ytrain = []\n",
    "pt_xtest = []\n",
    "pt_ytest = []\n",
    "\n",
    "# data for transfer learning\n",
    "tl_xtrain = []\n",
    "tl_ytrain = []\n",
    "tl_xtest = []\n",
    "tl_ytest = []\n",
    "\n",
    "m = 20000\n",
    "for i in range(m):\n",
    "    if ytrain[i]<5:\n",
    "        pt_xtrain.append(xtrain[i] / 255)\n",
    "        pt_ytrain.append(ytrain[i])\n",
    "    else:\n",
    "        tl_xtrain.append(xtrain[i] / 255)\n",
    "        tl_ytrain.append(ytrain[i])\n",
    "\n",
    "m2 = 10000\n",
    "for i in range(m2):\n",
    "    if ytest[i]<5:\n",
    "        pt_xtest.append(xtest[i] /255)\n",
    "        pt_ytest.append(ytest[i])\n",
    "    else:\n",
    "        tl_xtest.append(xtest[i] / 255)\n",
    "        tl_ytest.append(ytest[i])\n"
   ]
  },
  {
   "cell_type": "code",
   "execution_count": 5,
   "metadata": {},
   "outputs": [],
   "source": [
    "from keras.utils import np_utils"
   ]
  },
  {
   "cell_type": "code",
   "execution_count": 6,
   "metadata": {},
   "outputs": [],
   "source": [
    "# converting data into numpy arrays.\n",
    "pt_xtrain = np.asarray(pt_xtrain).reshape(-1, 28, 28, 1)\n",
    "pt_xtest = np.asarray(pt_xtest).reshape(-1, 28, 28, 1)\n",
    "pt_ytrain = np_utils.to_categorical(np.asarray(pt_ytrain))\n",
    "pt_ytest = np_utils.to_categorical(np.asarray(pt_ytest))\n",
    "\n",
    "tl_xtrain = np.asarray(tl_xtrain).reshape(-1, 28, 28, 1)\n",
    "tl_xtest = np.asarray(tl_xtest).reshape(-1, 28, 28, 1)\n",
    "tl_ytrain = np_utils.to_categorical(np.asarray(tl_ytrain))\n",
    "tl_ytest = np_utils.to_categorical(np.asarray(tl_ytest))"
   ]
  },
  {
   "cell_type": "code",
   "execution_count": 7,
   "metadata": {},
   "outputs": [
    {
     "name": "stdout",
     "output_type": "stream",
     "text": [
      "(10225, 28, 28, 1) (5139, 28, 28, 1)\n",
      "(10225, 5) (5139, 5)\n",
      "(9775, 28, 28, 1) (4861, 28, 28, 1)\n",
      "(9775, 10) (4861, 10)\n"
     ]
    }
   ],
   "source": [
    "print(pt_xtrain.shape, pt_xtest.shape)\n",
    "print(pt_ytrain.shape, pt_ytest.shape)\n",
    "\n",
    "print(tl_xtrain.shape, tl_xtest.shape)\n",
    "print(tl_ytrain.shape, tl_ytest.shape)"
   ]
  },
  {
   "cell_type": "code",
   "execution_count": 8,
   "metadata": {},
   "outputs": [],
   "source": [
    "from keras.models import Sequential\n",
    "from keras.layers import Activation, Conv2D, Dense, Dropout, Flatten, MaxPool2D "
   ]
  },
  {
   "cell_type": "code",
   "execution_count": 9,
   "metadata": {},
   "outputs": [
    {
     "name": "stdout",
     "output_type": "stream",
     "text": [
      "Model: \"sequential\"\n",
      "_________________________________________________________________\n",
      "Layer (type)                 Output Shape              Param #   \n",
      "=================================================================\n",
      "conv2d (Conv2D)              (None, 24, 24, 32)        832       \n",
      "_________________________________________________________________\n",
      "conv2d_1 (Conv2D)            (None, 20, 20, 16)        12816     \n",
      "_________________________________________________________________\n",
      "max_pooling2d (MaxPooling2D) (None, 10, 10, 16)        0         \n",
      "_________________________________________________________________\n",
      "conv2d_2 (Conv2D)            (None, 8, 8, 8)           1160      \n",
      "_________________________________________________________________\n",
      "flatten (Flatten)            (None, 512)               0         \n",
      "_________________________________________________________________\n",
      "dropout (Dropout)            (None, 512)               0         \n",
      "_________________________________________________________________\n",
      "dense (Dense)                (None, 128)               65664     \n",
      "_________________________________________________________________\n",
      "activation (Activation)      (None, 128)               0         \n",
      "_________________________________________________________________\n",
      "dense_1 (Dense)              (None, 5)                 645       \n",
      "_________________________________________________________________\n",
      "activation_1 (Activation)    (None, 5)                 0         \n",
      "=================================================================\n",
      "Total params: 81,117\n",
      "Trainable params: 81,117\n",
      "Non-trainable params: 0\n",
      "_________________________________________________________________\n"
     ]
    }
   ],
   "source": [
    "model = Sequential()\n",
    "\n",
    "model.add(Conv2D(32, 5, input_shape=(28, 28, 1), activation='relu'))\n",
    "model.add(Conv2D(16, 5, activation='relu'))\n",
    "model.add(MaxPool2D(pool_size=(2, 2)))\n",
    "model.add(Conv2D(8, 3, activation='relu'))\n",
    "model.add(Flatten())\n",
    "model.add(Dropout(0.4))\n",
    "model.add(Dense(128))\n",
    "model.add(Activation('relu'))\n",
    "model.add(Dense(5))\n",
    "model.add(Activation('softmax'))\n",
    "model.summary()"
   ]
  },
  {
   "cell_type": "code",
   "execution_count": 10,
   "metadata": {},
   "outputs": [],
   "source": [
    "model.compile(loss='categorical_crossentropy',\n",
    "             optimizer='adam',\n",
    "             metrics=['accuracy'])"
   ]
  },
  {
   "cell_type": "code",
   "execution_count": 11,
   "metadata": {},
   "outputs": [
    {
     "name": "stdout",
     "output_type": "stream",
     "text": [
      "Epoch 1/10\n",
      "103/103 - 14s - loss: 0.3090 - accuracy: 0.8967 - val_loss: 0.0557 - val_accuracy: 0.9835\n",
      "Epoch 2/10\n",
      "103/103 - 14s - loss: 0.0893 - accuracy: 0.9733 - val_loss: 0.0326 - val_accuracy: 0.9905\n",
      "Epoch 3/10\n",
      "103/103 - 14s - loss: 0.0557 - accuracy: 0.9817 - val_loss: 0.0248 - val_accuracy: 0.9909\n",
      "Epoch 4/10\n",
      "103/103 - 14s - loss: 0.0475 - accuracy: 0.9843 - val_loss: 0.0213 - val_accuracy: 0.9938\n",
      "Epoch 5/10\n",
      "103/103 - 14s - loss: 0.0330 - accuracy: 0.9891 - val_loss: 0.0140 - val_accuracy: 0.9955\n",
      "Epoch 6/10\n",
      "103/103 - 14s - loss: 0.0298 - accuracy: 0.9907 - val_loss: 0.0155 - val_accuracy: 0.9949\n",
      "Epoch 7/10\n",
      "103/103 - 14s - loss: 0.0232 - accuracy: 0.9918 - val_loss: 0.0170 - val_accuracy: 0.9946\n",
      "Epoch 8/10\n",
      "103/103 - 15s - loss: 0.0220 - accuracy: 0.9927 - val_loss: 0.0174 - val_accuracy: 0.9951\n",
      "Epoch 9/10\n",
      "103/103 - 14s - loss: 0.0192 - accuracy: 0.9937 - val_loss: 0.0108 - val_accuracy: 0.9959\n",
      "Epoch 10/10\n",
      "103/103 - 14s - loss: 0.0167 - accuracy: 0.9946 - val_loss: 0.0088 - val_accuracy: 0.9967\n"
     ]
    },
    {
     "data": {
      "text/plain": [
       "<tensorflow.python.keras.callbacks.History at 0x1983a0155f8>"
      ]
     },
     "execution_count": 11,
     "metadata": {},
     "output_type": "execute_result"
    }
   ],
   "source": [
    "model.fit(pt_xtrain, pt_ytrain,\n",
    "         batch_size=100,\n",
    "         epochs =10,\n",
    "         shuffle=True,\n",
    "         verbose=2,\n",
    "         validation_data=(pt_xtest, pt_ytest))"
   ]
  },
  {
   "cell_type": "code",
   "execution_count": 12,
   "metadata": {},
   "outputs": [
    {
     "data": {
      "text/plain": [
       "[<tensorflow.python.keras.layers.convolutional.Conv2D at 0x1981c79b898>,\n",
       " <tensorflow.python.keras.layers.convolutional.Conv2D at 0x19831af5fd0>,\n",
       " <tensorflow.python.keras.layers.pooling.MaxPooling2D at 0x19834fbe748>,\n",
       " <tensorflow.python.keras.layers.convolutional.Conv2D at 0x19834fbee80>,\n",
       " <tensorflow.python.keras.layers.core.Flatten at 0x1983d043d68>,\n",
       " <tensorflow.python.keras.layers.core.Dropout at 0x1983d0439b0>,\n",
       " <tensorflow.python.keras.layers.core.Dense at 0x1983d043b70>,\n",
       " <tensorflow.python.keras.layers.core.Activation at 0x1983d0506d8>,\n",
       " <tensorflow.python.keras.layers.core.Dense at 0x19836fe0080>,\n",
       " <tensorflow.python.keras.layers.core.Activation at 0x19836fe0630>]"
      ]
     },
     "execution_count": 12,
     "metadata": {},
     "output_type": "execute_result"
    }
   ],
   "source": [
    "model.layers"
   ]
  },
  {
   "cell_type": "code",
   "execution_count": 14,
   "metadata": {},
   "outputs": [
    {
     "name": "stdout",
     "output_type": "stream",
     "text": [
      "False\n",
      "False\n",
      "False\n",
      "False\n",
      "False\n",
      "False\n",
      "True\n",
      "True\n",
      "True\n",
      "True\n"
     ]
    }
   ],
   "source": [
    "# freezing the conv layers of the pretrained model\n",
    "\n",
    "for layer in model.layers[:6]:\n",
    "    layer.trainable=False\n",
    "\n",
    "for layer in model.layers:\n",
    "    print(layer.trainable)"
   ]
  },
  {
   "cell_type": "code",
   "execution_count": 15,
   "metadata": {},
   "outputs": [
    {
     "name": "stdout",
     "output_type": "stream",
     "text": [
      "Model: \"sequential_1\"\n",
      "_________________________________________________________________\n",
      "Layer (type)                 Output Shape              Param #   \n",
      "=================================================================\n",
      "conv2d (Conv2D)              (None, 24, 24, 32)        832       \n",
      "_________________________________________________________________\n",
      "conv2d_1 (Conv2D)            (None, 20, 20, 16)        12816     \n",
      "_________________________________________________________________\n",
      "max_pooling2d (MaxPooling2D) (None, 10, 10, 16)        0         \n",
      "_________________________________________________________________\n",
      "conv2d_2 (Conv2D)            (None, 8, 8, 8)           1160      \n",
      "_________________________________________________________________\n",
      "flatten (Flatten)            (None, 512)               0         \n",
      "_________________________________________________________________\n",
      "dropout (Dropout)            (None, 512)               0         \n",
      "_________________________________________________________________\n",
      "dense_2 (Dense)              (None, 128)               65664     \n",
      "_________________________________________________________________\n",
      "activation_2 (Activation)    (None, 128)               0         \n",
      "_________________________________________________________________\n",
      "dense_3 (Dense)              (None, 10)                1290      \n",
      "_________________________________________________________________\n",
      "activation_3 (Activation)    (None, 10)                0         \n",
      "=================================================================\n",
      "Total params: 81,762\n",
      "Trainable params: 66,954\n",
      "Non-trainable params: 14,808\n",
      "_________________________________________________________________\n"
     ]
    }
   ],
   "source": [
    "# model for transfer learning\n",
    "tl_model = Sequential(model.layers[:6])\n",
    "tl_model.add(Dense(128))\n",
    "tl_model.add(Activation('relu'))\n",
    "tl_model.add(Dense(10))\n",
    "tl_model.add(Activation('softmax'))\n",
    "\n",
    "tl_model.summary()"
   ]
  },
  {
   "cell_type": "code",
   "execution_count": 16,
   "metadata": {},
   "outputs": [],
   "source": [
    "tl_model.compile(loss='categorical_crossentropy',\n",
    "                optimizer = 'adam',\n",
    "                metrics=['accuracy'])"
   ]
  },
  {
   "cell_type": "code",
   "execution_count": 18,
   "metadata": {},
   "outputs": [
    {
     "name": "stdout",
     "output_type": "stream",
     "text": [
      "Epoch 1/10\n",
      "98/98 - 2s - loss: 0.3024 - accuracy: 0.9005 - val_loss: 0.0779 - val_accuracy: 0.9749\n",
      "Epoch 2/10\n",
      "98/98 - 2s - loss: 0.0964 - accuracy: 0.9692 - val_loss: 0.0493 - val_accuracy: 0.9858\n",
      "Epoch 3/10\n",
      "98/98 - 2s - loss: 0.0762 - accuracy: 0.9766 - val_loss: 0.0430 - val_accuracy: 0.9854\n",
      "Epoch 4/10\n",
      "98/98 - 2s - loss: 0.0682 - accuracy: 0.9780 - val_loss: 0.0372 - val_accuracy: 0.9877\n",
      "Epoch 5/10\n",
      "98/98 - 2s - loss: 0.0557 - accuracy: 0.9812 - val_loss: 0.0369 - val_accuracy: 0.9877\n",
      "Epoch 6/10\n",
      "98/98 - 2s - loss: 0.0534 - accuracy: 0.9818 - val_loss: 0.0350 - val_accuracy: 0.9879\n",
      "Epoch 7/10\n",
      "98/98 - 2s - loss: 0.0471 - accuracy: 0.9846 - val_loss: 0.0347 - val_accuracy: 0.9891\n",
      "Epoch 8/10\n",
      "98/98 - 3s - loss: 0.0474 - accuracy: 0.9840 - val_loss: 0.0283 - val_accuracy: 0.9887\n",
      "Epoch 9/10\n",
      "98/98 - 3s - loss: 0.0420 - accuracy: 0.9860 - val_loss: 0.0323 - val_accuracy: 0.9885\n",
      "Epoch 10/10\n",
      "98/98 - 3s - loss: 0.0420 - accuracy: 0.9871 - val_loss: 0.0314 - val_accuracy: 0.9901\n"
     ]
    },
    {
     "data": {
      "text/plain": [
       "<tensorflow.python.keras.callbacks.History at 0x19850fdfef0>"
      ]
     },
     "execution_count": 18,
     "metadata": {},
     "output_type": "execute_result"
    }
   ],
   "source": [
    "tl_model.fit(tl_xtrain, tl_ytrain,\n",
    "            batch_size=100,\n",
    "            epochs=10,\n",
    "            shuffle=True,\n",
    "            verbose=2,\n",
    "            validation_data=(tl_xtest, tl_ytest))"
   ]
  },
  {
   "cell_type": "code",
   "execution_count": null,
   "metadata": {},
   "outputs": [],
   "source": []
  }
 ],
 "metadata": {
  "kernelspec": {
   "display_name": "Python 3",
   "language": "python",
   "name": "python3"
  },
  "language_info": {
   "codemirror_mode": {
    "name": "ipython",
    "version": 3
   },
   "file_extension": ".py",
   "mimetype": "text/x-python",
   "name": "python",
   "nbconvert_exporter": "python",
   "pygments_lexer": "ipython3",
   "version": "3.6.6"
  }
 },
 "nbformat": 4,
 "nbformat_minor": 4
}
