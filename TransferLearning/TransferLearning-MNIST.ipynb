{
 "cells": [
  {
   "cell_type": "code",
   "execution_count": 1,
   "metadata": {},
   "outputs": [],
   "source": [
    "import numpy as np\n",
    "import matplotlib.pyplot as plt\n",
    "%matplotlib inline\n",
    "from keras.datasets import mnist"
   ]
  },
  {
   "cell_type": "code",
   "execution_count": 2,
   "metadata": {},
   "outputs": [],
   "source": [
    "(xtrain, ytrain), (xtest, ytest) = mnist.load_data()"
   ]
  },
  {
   "cell_type": "code",
   "execution_count": 3,
   "metadata": {},
   "outputs": [
    {
     "name": "stdout",
     "output_type": "stream",
     "text": [
      "(60000, 28, 28) (10000, 28, 28)\n",
      "(60000,) (10000,)\n"
     ]
    }
   ],
   "source": [
    "print(xtrain.shape, xtest.shape)\n",
    "print(ytrain.shape, ytest.shape)"
   ]
  },
  {
   "cell_type": "code",
   "execution_count": null,
   "metadata": {},
   "outputs": [],
   "source": [
    "pt_xtrain = []\n",
    "pt_ytrain = []\n",
    "pt_xtest = []\n",
    "pt_ytest = []\n",
    "\n",
    "tl_xtrain = []\n",
    "tl_ytrain = []\n",
    "tl_xtest = []\n",
    "tl_ytest = []\n",
    "\n",
    "m = 20000\n",
    "for i in range(m):\n",
    "    if ytrain[i]<5:\n",
    "        pt_xtrain.append(xtrain[i] / 255)\n",
    "        pt_ytrain.append(ytrain[i])\n",
    "    else:\n",
    "        tl_xtrain.append(xtrain[i] / 255)\n",
    "        tl_ytrain.append(ytrain[i])\n",
    "\n",
    "m2 = 10000\n",
    "for i in range(m2):\n",
    "    if ytrain[i]<5:\n",
    "        pt_xtest.append(xtest[i] /255)\n",
    "        pt_ytest.append(ytest[i])\n",
    "    else:\n",
    "        tl_xtest.append(xtest[i] / 255)\n",
    "        tl_ytest.append(ytest[i])\n"
   ]
  },
  {
   "cell_type": "code",
   "execution_count": null,
   "metadata": {},
   "outputs": [],
   "source": [
    "from keras.utils import np_utils"
   ]
  },
  {
   "cell_type": "code",
   "execution_count": null,
   "metadata": {},
   "outputs": [],
   "source": [
    "pt_xtrain = np.asarray(pt_xtrain).reshape(-1, 28, 28, 1)\n",
    "pt_xtest = np.asarray(pt_xtest).reshape(-1, 28, 28, 1)\n",
    "pt_ytrain = np_utils.to_categorical(np.asarray(pt_ytrain))\n",
    "pt_ytest = np_utils.to_categorical(np.asarray(pt_ytest))\n",
    "\n",
    "tl_xtrain = np.asarray(tl_xtrain).reshape(-1, 28, 28, 1)\n",
    "tl_xtest = np.asarray(tl_xtest).reshape(-1, 28, 28, 1)\n",
    "tl_ytrain = np_utils.to_categorical(np.asarray(tl_ytrain))\n",
    "tl_ytest = np_utils.to_categorical(np.asarray(tl_ytest))"
   ]
  },
  {
   "cell_type": "code",
   "execution_count": null,
   "metadata": {},
   "outputs": [],
   "source": [
    "print(pt_xtrain.shape, pt_xtest.shape)\n",
    "print(pt_ytrain.shape, pt_ytest.shape)\n",
    "\n",
    "print(tl_xtrain.shape, tl_xtest.shape)\n",
    "print(tl_ytrain.shape, tl_ytest.shape)"
   ]
  },
  {
   "cell_type": "code",
   "execution_count": null,
   "metadata": {},
   "outputs": [],
   "source": []
  }
 ],
 "metadata": {
  "kernelspec": {
   "display_name": "Python 3",
   "language": "python",
   "name": "python3"
  },
  "language_info": {
   "codemirror_mode": {
    "name": "ipython",
    "version": 3
   },
   "file_extension": ".py",
   "mimetype": "text/x-python",
   "name": "python",
   "nbconvert_exporter": "python",
   "pygments_lexer": "ipython3",
   "version": "3.6.6"
  }
 },
 "nbformat": 4,
 "nbformat_minor": 4
}
