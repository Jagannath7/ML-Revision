{
 "cells": [
  {
   "cell_type": "code",
   "execution_count": 1,
   "metadata": {},
   "outputs": [],
   "source": [
    "import numpy as np\n",
    "from keras.datasets import mnist"
   ]
  },
  {
   "cell_type": "code",
   "execution_count": 2,
   "metadata": {},
   "outputs": [],
   "source": [
    "(x_train, _), (x_test, _) = mnist.load_data()"
   ]
  },
  {
   "cell_type": "code",
   "execution_count": 3,
   "metadata": {},
   "outputs": [
    {
     "name": "stdout",
     "output_type": "stream",
     "text": [
      "(60000, 28, 28) (10000, 28, 28)\n"
     ]
    }
   ],
   "source": [
    "print(x_train.shape, x_test.shape)"
   ]
  },
  {
   "cell_type": "code",
   "execution_count": 4,
   "metadata": {},
   "outputs": [
    {
     "name": "stdout",
     "output_type": "stream",
     "text": [
      "(60000, 28, 28) (10000, 28, 28)\n"
     ]
    }
   ],
   "source": [
    "X_train = x_train.astype('float32')/255\n",
    "X_test = x_test.astype('float32')/255\n",
    "\n",
    "print(x_train.shape, x_test.shape)"
   ]
  },
  {
   "cell_type": "code",
   "execution_count": 5,
   "metadata": {},
   "outputs": [
    {
     "name": "stdout",
     "output_type": "stream",
     "text": [
      "(60000, 784) (10000, 784)\n"
     ]
    }
   ],
   "source": [
    "X_train = X_train.reshape(-1, 28*28)\n",
    "X_test = X_test.reshape(-1, 28*28)\n",
    "\n",
    "print(X_train.shape, X_test.shape)"
   ]
  },
  {
   "cell_type": "code",
   "execution_count": 6,
   "metadata": {},
   "outputs": [],
   "source": [
    "from keras.models import Model\n",
    "from keras.layers import Dense, Input"
   ]
  },
  {
   "cell_type": "code",
   "execution_count": 7,
   "metadata": {},
   "outputs": [],
   "source": [
    "input_img = Input(shape=(784, ))\n",
    "\n",
    "encoded = Dense(128, activation='relu')(input_img)\n",
    "encoded = Dense(64, activation='relu')(encoded)\n",
    "encoded = Dense(32, activation='relu')(encoded)\n",
    "\n",
    "decoded = Dense(64, activation='relu')(encoded)\n",
    "decoded = Dense(128, activation='relu')(decoded)\n",
    "decoded = Dense(784, activation='sigmoid')(decoded)"
   ]
  },
  {
   "cell_type": "code",
   "execution_count": 8,
   "metadata": {},
   "outputs": [],
   "source": [
    "autoencoder = Model(input_img, decoded)"
   ]
  },
  {
   "cell_type": "code",
   "execution_count": 9,
   "metadata": {},
   "outputs": [],
   "source": [
    "autoencoder.compile(optimizer='adadelta',\n",
    "                   loss = 'binary_crossentropy')"
   ]
  },
  {
   "cell_type": "code",
   "execution_count": 10,
   "metadata": {},
   "outputs": [
    {
     "name": "stdout",
     "output_type": "stream",
     "text": [
      "Model: \"functional_1\"\n",
      "_________________________________________________________________\n",
      "Layer (type)                 Output Shape              Param #   \n",
      "=================================================================\n",
      "input_1 (InputLayer)         [(None, 784)]             0         \n",
      "_________________________________________________________________\n",
      "dense (Dense)                (None, 128)               100480    \n",
      "_________________________________________________________________\n",
      "dense_1 (Dense)              (None, 64)                8256      \n",
      "_________________________________________________________________\n",
      "dense_2 (Dense)              (None, 32)                2080      \n",
      "_________________________________________________________________\n",
      "dense_3 (Dense)              (None, 64)                2112      \n",
      "_________________________________________________________________\n",
      "dense_4 (Dense)              (None, 128)               8320      \n",
      "_________________________________________________________________\n",
      "dense_5 (Dense)              (None, 784)               101136    \n",
      "=================================================================\n",
      "Total params: 222,384\n",
      "Trainable params: 222,384\n",
      "Non-trainable params: 0\n",
      "_________________________________________________________________\n"
     ]
    }
   ],
   "source": [
    "autoencoder.summary()"
   ]
  },
  {
   "cell_type": "code",
   "execution_count": 11,
   "metadata": {},
   "outputs": [
    {
     "name": "stdout",
     "output_type": "stream",
     "text": [
      "Epoch 1/50\n",
      "235/235 [==============================] - 2s 8ms/step - loss: 0.6926 - val_loss: 0.6926\n",
      "Epoch 2/50\n",
      "235/235 [==============================] - 2s 7ms/step - loss: 0.6925 - val_loss: 0.6925\n",
      "Epoch 3/50\n",
      "235/235 [==============================] - 2s 7ms/step - loss: 0.6924 - val_loss: 0.6924\n",
      "Epoch 4/50\n",
      "235/235 [==============================] - 2s 10ms/step - loss: 0.6923 - val_loss: 0.6922\n",
      "Epoch 5/50\n",
      "235/235 [==============================] - 2s 7ms/step - loss: 0.6922 - val_loss: 0.6921\n",
      "Epoch 6/50\n",
      "235/235 [==============================] - 2s 7ms/step - loss: 0.6921 - val_loss: 0.6920\n",
      "Epoch 7/50\n",
      "235/235 [==============================] - 2s 7ms/step - loss: 0.6920 - val_loss: 0.6919\n",
      "Epoch 8/50\n",
      "235/235 [==============================] - 2s 7ms/step - loss: 0.6919 - val_loss: 0.6918\n",
      "Epoch 9/50\n",
      "235/235 [==============================] - 2s 7ms/step - loss: 0.6918 - val_loss: 0.6917\n",
      "Epoch 10/50\n",
      "235/235 [==============================] - 2s 7ms/step - loss: 0.6916 - val_loss: 0.6916\n",
      "Epoch 11/50\n",
      "235/235 [==============================] - 2s 8ms/step - loss: 0.6915 - val_loss: 0.6914\n",
      "Epoch 12/50\n",
      "235/235 [==============================] - 2s 8ms/step - loss: 0.6914 - val_loss: 0.6913\n",
      "Epoch 13/50\n",
      "235/235 [==============================] - 2s 8ms/step - loss: 0.6913 - val_loss: 0.6912\n",
      "Epoch 14/50\n",
      "235/235 [==============================] - 2s 8ms/step - loss: 0.6912 - val_loss: 0.6911\n",
      "Epoch 15/50\n",
      "235/235 [==============================] - 2s 8ms/step - loss: 0.6911 - val_loss: 0.6910\n",
      "Epoch 16/50\n",
      "235/235 [==============================] - 2s 8ms/step - loss: 0.6909 - val_loss: 0.6909\n",
      "Epoch 17/50\n",
      "235/235 [==============================] - 2s 8ms/step - loss: 0.6908 - val_loss: 0.6907\n",
      "Epoch 18/50\n",
      "235/235 [==============================] - 2s 8ms/step - loss: 0.6907 - val_loss: 0.6906\n",
      "Epoch 19/50\n",
      "235/235 [==============================] - 2s 8ms/step - loss: 0.6906 - val_loss: 0.6905\n",
      "Epoch 20/50\n",
      "235/235 [==============================] - 2s 8ms/step - loss: 0.6905 - val_loss: 0.6904\n",
      "Epoch 21/50\n",
      "235/235 [==============================] - 2s 8ms/step - loss: 0.6903 - val_loss: 0.6902\n",
      "Epoch 22/50\n",
      "235/235 [==============================] - 2s 8ms/step - loss: 0.6902 - val_loss: 0.6901\n",
      "Epoch 23/50\n",
      "235/235 [==============================] - 2s 8ms/step - loss: 0.6901 - val_loss: 0.6900\n",
      "Epoch 24/50\n",
      "235/235 [==============================] - 2s 8ms/step - loss: 0.6899 - val_loss: 0.6898\n",
      "Epoch 25/50\n",
      "235/235 [==============================] - 2s 8ms/step - loss: 0.6898 - val_loss: 0.6897\n",
      "Epoch 26/50\n",
      "235/235 [==============================] - 2s 8ms/step - loss: 0.6897 - val_loss: 0.6896\n",
      "Epoch 27/50\n",
      "235/235 [==============================] - 2s 8ms/step - loss: 0.6895 - val_loss: 0.6894\n",
      "Epoch 28/50\n",
      "235/235 [==============================] - 2s 8ms/step - loss: 0.6894 - val_loss: 0.6893\n",
      "Epoch 29/50\n",
      "235/235 [==============================] - 2s 8ms/step - loss: 0.6892 - val_loss: 0.6891\n",
      "Epoch 30/50\n",
      "235/235 [==============================] - ETA: 0s - loss: 0.689 - 2s 8ms/step - loss: 0.6891 - val_loss: 0.6890\n",
      "Epoch 31/50\n",
      "235/235 [==============================] - 2s 8ms/step - loss: 0.6890 - val_loss: 0.6888\n",
      "Epoch 32/50\n",
      "235/235 [==============================] - 2s 8ms/step - loss: 0.6888 - val_loss: 0.6887\n",
      "Epoch 33/50\n",
      "235/235 [==============================] - 2s 8ms/step - loss: 0.6886 - val_loss: 0.6885\n",
      "Epoch 34/50\n",
      "235/235 [==============================] - 2s 8ms/step - loss: 0.6885 - val_loss: 0.6884\n",
      "Epoch 35/50\n",
      "235/235 [==============================] - 2s 8ms/step - loss: 0.6883 - val_loss: 0.6882\n",
      "Epoch 36/50\n",
      "235/235 [==============================] - 2s 11ms/step - loss: 0.6882 - val_loss: 0.6880\n",
      "Epoch 37/50\n",
      "235/235 [==============================] - 2s 8ms/step - loss: 0.6880 - val_loss: 0.6878\n",
      "Epoch 38/50\n",
      "235/235 [==============================] - 2s 8ms/step - loss: 0.6878 - val_loss: 0.6877\n",
      "Epoch 39/50\n",
      "235/235 [==============================] - 2s 8ms/step - loss: 0.6876 - val_loss: 0.6875\n",
      "Epoch 40/50\n",
      "235/235 [==============================] - 2s 8ms/step - loss: 0.6875 - val_loss: 0.6873\n",
      "Epoch 41/50\n",
      "235/235 [==============================] - 2s 8ms/step - loss: 0.6873 - val_loss: 0.6871\n",
      "Epoch 42/50\n",
      "235/235 [==============================] - 2s 8ms/step - loss: 0.6871 - val_loss: 0.6869\n",
      "Epoch 43/50\n",
      "235/235 [==============================] - 2s 8ms/step - loss: 0.6869 - val_loss: 0.6867\n",
      "Epoch 44/50\n",
      "235/235 [==============================] - 2s 8ms/step - loss: 0.6867 - val_loss: 0.6865\n",
      "Epoch 45/50\n",
      "235/235 [==============================] - 2s 8ms/step - loss: 0.6865 - val_loss: 0.6863\n",
      "Epoch 46/50\n",
      "235/235 [==============================] - 2s 8ms/step - loss: 0.6862 - val_loss: 0.6860\n",
      "Epoch 47/50\n",
      "235/235 [==============================] - 2s 8ms/step - loss: 0.6860 - val_loss: 0.6858\n",
      "Epoch 48/50\n",
      "235/235 [==============================] - 2s 8ms/step - loss: 0.6858 - val_loss: 0.6856\n",
      "Epoch 49/50\n",
      "235/235 [==============================] - 2s 8ms/step - loss: 0.6855 - val_loss: 0.6853\n",
      "Epoch 50/50\n",
      "235/235 [==============================] - 2s 8ms/step - loss: 0.6853 - val_loss: 0.6850\n"
     ]
    },
    {
     "data": {
      "text/plain": [
       "<tensorflow.python.keras.callbacks.History at 0x11903f726d8>"
      ]
     },
     "execution_count": 11,
     "metadata": {},
     "output_type": "execute_result"
    }
   ],
   "source": [
    "autoencoder.fit(X_train, X_train,\n",
    "               batch_size=256,\n",
    "               epochs=50,\n",
    "               shuffle=True,\n",
    "               validation_data=(X_test, X_test))"
   ]
  },
  {
   "cell_type": "code",
   "execution_count": 12,
   "metadata": {},
   "outputs": [],
   "source": [
    "encoder = Model(input_img, encoded)\n",
    "\n",
    "encoded_input = Input(shape=(32, ))\n",
    "decoder_layers = autoencoder.layers[4:]"
   ]
  },
  {
   "cell_type": "code",
   "execution_count": 13,
   "metadata": {
    "scrolled": true
   },
   "outputs": [
    {
     "name": "stdout",
     "output_type": "stream",
     "text": [
      "[<tensorflow.python.keras.engine.input_layer.InputLayer object at 0x0000011968226C50>, <tensorflow.python.keras.layers.core.Dense object at 0x000001196822A3C8>, <tensorflow.python.keras.layers.core.Dense object at 0x000001196822A4A8>, <tensorflow.python.keras.layers.core.Dense object at 0x000001196822A748>, <tensorflow.python.keras.layers.core.Dense object at 0x000001196822AB00>, <tensorflow.python.keras.layers.core.Dense object at 0x0000011902D59208>, <tensorflow.python.keras.layers.core.Dense object at 0x0000011902D59EB8>]\n"
     ]
    }
   ],
   "source": [
    "print(autoencoder.layers)"
   ]
  },
  {
   "cell_type": "code",
   "execution_count": 14,
   "metadata": {},
   "outputs": [],
   "source": [
    "decoder = Model(encoded_input, decoder_layers[0](encoded_input))"
   ]
  },
  {
   "cell_type": "code",
   "execution_count": 15,
   "metadata": {},
   "outputs": [],
   "source": [
    "import matplotlib.pyplot as plt\n",
    "%matplotlib inline"
   ]
  },
  {
   "cell_type": "code",
   "execution_count": null,
   "metadata": {},
   "outputs": [],
   "source": []
  }
 ],
 "metadata": {
  "kernelspec": {
   "display_name": "Python 3",
   "language": "python",
   "name": "python3"
  },
  "language_info": {
   "codemirror_mode": {
    "name": "ipython",
    "version": 3
   },
   "file_extension": ".py",
   "mimetype": "text/x-python",
   "name": "python",
   "nbconvert_exporter": "python",
   "pygments_lexer": "ipython3",
   "version": "3.6.6"
  }
 },
 "nbformat": 4,
 "nbformat_minor": 4
}
