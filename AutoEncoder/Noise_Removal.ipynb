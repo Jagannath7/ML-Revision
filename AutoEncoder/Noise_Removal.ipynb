{
 "cells": [
  {
   "cell_type": "code",
   "execution_count": 1,
   "metadata": {},
   "outputs": [],
   "source": [
    "import numpy as np\n",
    "import matplotlib.pyplot as plt\n",
    "%matplotlib inline\n",
    "from keras.datasets import mnist"
   ]
  },
  {
   "cell_type": "code",
   "execution_count": 2,
   "metadata": {},
   "outputs": [],
   "source": [
    "(x_train, _), (x_test, _) = mnist.load_data()"
   ]
  },
  {
   "cell_type": "code",
   "execution_count": 3,
   "metadata": {},
   "outputs": [
    {
     "name": "stdout",
     "output_type": "stream",
     "text": [
      "(60000, 28, 28) (10000, 28, 28)\n"
     ]
    }
   ],
   "source": [
    "X_train = x_train.astype('float32')/255\n",
    "X_test = x_test.astype('float32')/255\n",
    "\n",
    "print(X_train.shape, X_test.shape)"
   ]
  },
  {
   "cell_type": "code",
   "execution_count": 4,
   "metadata": {},
   "outputs": [
    {
     "name": "stdout",
     "output_type": "stream",
     "text": [
      "(60000, 28, 28, 1) (10000, 28, 28, 1)\n"
     ]
    }
   ],
   "source": [
    "X_train = X_train.reshape(-1, 28, 28, 1)\n",
    "X_test = X_test.reshape(-1, 28, 28, 1)\n",
    "\n",
    "print(X_train.shape, X_test.shape)"
   ]
  },
  {
   "cell_type": "code",
   "execution_count": 5,
   "metadata": {},
   "outputs": [],
   "source": [
    "noise_factor = 0.5\n",
    "\n",
    "X_train_noisy = X_train + noise_factor*np.random.normal(0.0, 1.0, X_train.shape)\n",
    "X_test_noisy = X_test + noise_factor*np.random.normal(0.0, 1.0, X_test.shape)"
   ]
  },
  {
   "cell_type": "code",
   "execution_count": 6,
   "metadata": {},
   "outputs": [],
   "source": [
    "X_train_noisy = np.clip(X_train_noisy, 0., 1.)\n",
    "X_test_noisy = np.clip(X_test_noisy, 0., 1.)"
   ]
  },
  {
   "cell_type": "code",
   "execution_count": 7,
   "metadata": {},
   "outputs": [
    {
     "data": {
      "image/png": "[encoded data removed]",
      "text/plain": [
       "<Figure size 1440x144 with 10 Axes>"
      ]
     },
     "metadata": {
      "needs_background": "light"
     },
     "output_type": "display_data"
    }
   ],
   "source": [
    "n = 10\n",
    "plt.figure(figsize=(20, 2))\n",
    "for i in range(1, n+1):\n",
    "    sp = plt.subplot(1, n, i)\n",
    "    plt.imshow(X_test_noisy[i].reshape(28, 28))\n",
    "    plt.gray()\n",
    "plt.show()"
   ]
  },
  {
   "cell_type": "code",
   "execution_count": 8,
   "metadata": {},
   "outputs": [],
   "source": [
    "from keras.models import Model\n",
    "from keras.layers import Input, Conv2D, MaxPool2D, UpSampling2D"
   ]
  },
  {
   "cell_type": "code",
   "execution_count": 9,
   "metadata": {},
   "outputs": [],
   "source": [
    "# encoder\n",
    "input_img = Input(shape=(28, 28, 1))\n",
    "\n",
    "x = Conv2D(32, (3,3), activation='relu', padding='same')(input_img)\n",
    "#(28, 28, 32)\n",
    "x = MaxPool2D((2, 2))(x)\n",
    "#(14, 14, 32)\n",
    "x = Conv2D(32,(3, 3), activation='relu', padding='same')(x)\n",
    "#(14, 14, 32)\n",
    "encoded = MaxPool2D((2, 2))(x)\n",
    "#(7, 7, 32)"
   ]
  },
  {
   "cell_type": "code",
   "execution_count": 10,
   "metadata": {},
   "outputs": [],
   "source": [
    "# decoder\n",
    "x = Conv2D(32,(3, 3), activation='relu', padding='same')(encoded)\n",
    "#(7, 7, 32)\n",
    "x = UpSampling2D((2, 2))(x)\n",
    "#(14, 14, 32)\n",
    "x = Conv2D(32,(3, 3), activation='relu', padding='same')(x)\n",
    "#(14, 14, 32)\n",
    "x = UpSampling2D((2, 2))(x)\n",
    "#(28, 28, 32)\n",
    "decoded = Conv2D(1,(3, 3), activation='sigmoid', padding='same')(x)"
   ]
  },
  {
   "cell_type": "code",
   "execution_count": 11,
   "metadata": {},
   "outputs": [],
   "source": [
    "autoencoder = Model(input_img, decoded)"
   ]
  },
  {
   "cell_type": "code",
   "execution_count": 12,
   "metadata": {},
   "outputs": [],
   "source": [
    "autoencoder.compile(optimizer='adadelta', loss='binary_crossentropy')"
   ]
  },
  {
   "cell_type": "code",
   "execution_count": 25,
   "metadata": {},
   "outputs": [
    {
     "name": "stdout",
     "output_type": "stream",
     "text": [
      "Epoch 1/10\n",
      "469/469 [==============================] - 134s 286ms/step - loss: 0.6101 - val_loss: 0.5582\n",
      "Epoch 2/10\n",
      "469/469 [==============================] - 134s 287ms/step - loss: 0.5237 - val_loss: 0.5109\n",
      "Epoch 3/10\n",
      "469/469 [==============================] - 134s 287ms/step - loss: 0.5025 - val_loss: 0.5018\n",
      "Epoch 4/10\n",
      "469/469 [==============================] - 135s 287ms/step - loss: 0.4938 - val_loss: 0.4932\n",
      "Epoch 5/10\n",
      "469/469 [==============================] - 129s 276ms/step - loss: 0.4853 - val_loss: 0.4846\n",
      "Epoch 6/10\n",
      "469/469 [==============================] - 129s 276ms/step - loss: 0.4767 - val_loss: 0.4757\n",
      "Epoch 7/10\n",
      "469/469 [==============================] - 129s 275ms/step - loss: 0.4676 - val_loss: 0.4661\n",
      "Epoch 8/10\n",
      "469/469 [==============================] - 128s 274ms/step - loss: 0.4575 - val_loss: 0.4552\n",
      "Epoch 9/10\n",
      "469/469 [==============================] - 128s 273ms/step - loss: 0.4459 - val_loss: 0.4424\n",
      "Epoch 10/10\n",
      "469/469 [==============================] - 128s 272ms/step - loss: 0.4320 - val_loss: 0.4265\n"
     ]
    },
    {
     "data": {
      "text/plain": [
       "<tensorflow.python.keras.callbacks.History at 0x17d078cbda0>"
      ]
     },
     "execution_count": 25,
     "metadata": {},
     "output_type": "execute_result"
    }
   ],
   "source": [
    "autoencoder.fit(X_train_noisy, X_train,\n",
    "               batch_size=128,\n",
    "               epochs=10,\n",
    "               shuffle=True,\n",
    "               validation_data=(X_test_noisy, X_test))"
   ]
  },
  {
   "cell_type": "code",
   "execution_count": 26,
   "metadata": {},
   "outputs": [],
   "source": [
    "de_noised_images = autoencoder.predict(X_test_noisy[:10])"
   ]
  },
  {
   "cell_type": "code",
   "execution_count": null,
   "metadata": {},
   "outputs": [],
   "source": []
  },
  {
   "cell_type": "code",
   "execution_count": null,
   "metadata": {},
   "outputs": [],
   "source": []
  }
 ],
 "metadata": {
  "kernelspec": {
   "display_name": "Python 3",
   "language": "python",
   "name": "python3"
  },
  "language_info": {
   "codemirror_mode": {
    "name": "ipython",
    "version": 3
   },
   "file_extension": ".py",
   "mimetype": "text/x-python",
   "name": "python",
   "nbconvert_exporter": "python",
   "pygments_lexer": "ipython3",
   "version": "3.6.6"
  }
 },
 "nbformat": 4,
 "nbformat_minor": 4
}
