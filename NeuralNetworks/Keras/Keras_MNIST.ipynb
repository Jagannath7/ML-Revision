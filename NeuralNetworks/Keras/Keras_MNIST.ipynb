{
 "cells": [
  {
   "cell_type": "code",
   "execution_count": 2,
   "metadata": {},
   "outputs": [],
   "source": [
    "import numpy as np\n",
    "import matplotlib.pyplot as plt\n",
    "%matplotlib inline"
   ]
  },
  {
   "cell_type": "code",
   "execution_count": 3,
   "metadata": {},
   "outputs": [
    {
     "name": "stdout",
     "output_type": "stream",
     "text": [
      "Downloading data from https://storage.googleapis.com/tensorflow/tf-keras-datasets/mnist.npz\n",
      "11493376/11490434 [==============================] - 1s 0us/step\n",
      "(60000, 28, 28) (10000, 28, 28)\n",
      "(60000,) (10000,)\n"
     ]
    }
   ],
   "source": [
    "from keras.datasets import mnist\n",
    "(xtrain, ytrain), (xtest, ytest) = mnist.load_data()\n",
    "\n",
    "print(xtrain.shape, xtest.shape)\n",
    "print(ytrain.shape, ytest.shape)"
   ]
  },
  {
   "cell_type": "code",
   "execution_count": 4,
   "metadata": {},
   "outputs": [
    {
     "name": "stdout",
     "output_type": "stream",
     "text": [
      "(60000, 10)\n",
      "(10000, 10)\n"
     ]
    }
   ],
   "source": [
    "from keras.utils import np_utils\n",
    "y_train = np_utils.to_categorical(ytrain)\n",
    "y_test = np_utils.to_categorical(ytest)\n",
    "\n",
    "print(y_train.shape)\n",
    "print(y_test.shape)"
   ]
  },
  {
   "cell_type": "code",
   "execution_count": 7,
   "metadata": {},
   "outputs": [
    {
     "data": {
      "image/png": "[encoded data removed]",
      "text/plain": [
       "<Figure size 432x288 with 1 Axes>"
      ]
     },
     "metadata": {
      "needs_background": "light"
     },
     "output_type": "display_data"
    }
   ],
   "source": [
    "plt.imshow(xtrain[0], cmap='gray')\n",
    "plt.show()"
   ]
  },
  {
   "cell_type": "code",
   "execution_count": 9,
   "metadata": {},
   "outputs": [
    {
     "name": "stdout",
     "output_type": "stream",
     "text": [
      "(60000, 28, 28, 1)\n",
      "(10000, 28, 28, 1)\n"
     ]
    }
   ],
   "source": [
    "x_train = xtrain.reshape(60000, 28, 28, 1)\n",
    "x_test = xtest.reshape(-1, 28, 28, 1)\n",
    "\n",
    "print(x_train.shape)\n",
    "print(x_test.shape)"
   ]
  },
  {
   "cell_type": "code",
   "execution_count": 10,
   "metadata": {},
   "outputs": [
    {
     "name": "stdout",
     "output_type": "stream",
     "text": [
      "(3600, 28, 28, 1) (900, 28, 28, 1)\n",
      "(3600, 10) (900, 10)\n"
     ]
    }
   ],
   "source": [
    "X_train = x_train[:3600]\n",
    "X_test = x_test[:900]\n",
    "\n",
    "Y_train = y_train[:3600]\n",
    "Y_test = y_test[:900]\n",
    "\n",
    "print(X_train.shape, X_test.shape)\n",
    "print(Y_train.shape, Y_test.shape)"
   ]
  },
  {
   "cell_type": "code",
   "execution_count": 11,
   "metadata": {},
   "outputs": [],
   "source": [
    "from keras.models import Sequential\n",
    "from keras.layers import Dense, Activation, Flatten"
   ]
  },
  {
   "cell_type": "code",
   "execution_count": 16,
   "metadata": {},
   "outputs": [
    {
     "name": "stdout",
     "output_type": "stream",
     "text": [
      "Model: \"sequential_1\"\n",
      "_________________________________________________________________\n",
      "Layer (type)                 Output Shape              Param #   \n",
      "=================================================================\n",
      "flatten_1 (Flatten)          (None, 784)               0         \n",
      "_________________________________________________________________\n",
      "dense_3 (Dense)              (None, 100)               78500     \n",
      "_________________________________________________________________\n",
      "activation_3 (Activation)    (None, 100)               0         \n",
      "_________________________________________________________________\n",
      "dense_4 (Dense)              (None, 100)               10100     \n",
      "_________________________________________________________________\n",
      "activation_4 (Activation)    (None, 100)               0         \n",
      "_________________________________________________________________\n",
      "dense_5 (Dense)              (None, 10)                1010      \n",
      "_________________________________________________________________\n",
      "activation_5 (Activation)    (None, 10)                0         \n",
      "=================================================================\n",
      "Total params: 89,610\n",
      "Trainable params: 89,610\n",
      "Non-trainable params: 0\n",
      "_________________________________________________________________\n"
     ]
    }
   ],
   "source": [
    "model = Sequential()\n",
    "\n",
    "model.add(Flatten(input_shape=(28,28,1)))\n",
    "\n",
    "model.add(Dense(100))\n",
    "model.add(Activation('relu'))\n",
    "\n",
    "model.add(Dense(100))\n",
    "model.add(Activation('relu'))\n",
    "\n",
    "model.add(Dense(10))\n",
    "model.add(Activation('softmax'))\n",
    "\n",
    "model.summary()"
   ]
  },
  {
   "cell_type": "code",
   "execution_count": 17,
   "metadata": {},
   "outputs": [],
   "source": [
    "model.compile(optimizer='adam',\n",
    "              loss='categorical_crossentropy',\n",
    "              metrics=['accuracy'])"
   ]
  },
  {
   "cell_type": "code",
   "execution_count": 18,
   "metadata": {},
   "outputs": [
    {
     "name": "stdout",
     "output_type": "stream",
     "text": [
      "Epoch 1/12\n",
      "225/225 [==============================] - 1s 4ms/step - loss: 8.2399 - accuracy: 0.7108 - val_loss: 3.6542 - val_accuracy: 0.7644\n",
      "Epoch 2/12\n",
      "225/225 [==============================] - 1s 3ms/step - loss: 1.5087 - accuracy: 0.8700 - val_loss: 3.3308 - val_accuracy: 0.7556\n",
      "Epoch 3/12\n",
      "225/225 [==============================] - 1s 4ms/step - loss: 1.0736 - accuracy: 0.9003 - val_loss: 2.3688 - val_accuracy: 0.8189\n",
      "Epoch 4/12\n",
      "225/225 [==============================] - 1s 4ms/step - loss: 0.7277 - accuracy: 0.9228 - val_loss: 3.0769 - val_accuracy: 0.7933\n",
      "Epoch 5/12\n",
      "225/225 [==============================] - 1s 3ms/step - loss: 0.6303 - accuracy: 0.9314 - val_loss: 2.7639 - val_accuracy: 0.8244\n",
      "Epoch 6/12\n",
      "225/225 [==============================] - 1s 3ms/step - loss: 0.5384 - accuracy: 0.9383 - val_loss: 1.9079 - val_accuracy: 0.8533\n",
      "Epoch 7/12\n",
      "225/225 [==============================] - 1s 3ms/step - loss: 0.3356 - accuracy: 0.9569 - val_loss: 2.2983 - val_accuracy: 0.8622\n",
      "Epoch 8/12\n",
      "225/225 [==============================] - 1s 3ms/step - loss: 0.4632 - accuracy: 0.9519 - val_loss: 2.1026 - val_accuracy: 0.8700\n",
      "Epoch 9/12\n",
      "225/225 [==============================] - 1s 3ms/step - loss: 0.5983 - accuracy: 0.9489 - val_loss: 2.6406 - val_accuracy: 0.8644\n",
      "Epoch 10/12\n",
      "225/225 [==============================] - 1s 3ms/step - loss: 0.5617 - accuracy: 0.9503 - val_loss: 1.8073 - val_accuracy: 0.8800\n",
      "Epoch 11/12\n",
      "225/225 [==============================] - 1s 3ms/step - loss: 0.4079 - accuracy: 0.9583 - val_loss: 2.7805 - val_accuracy: 0.8511\n",
      "Epoch 12/12\n",
      "225/225 [==============================] - 1s 3ms/step - loss: 0.4607 - accuracy: 0.9631 - val_loss: 2.6182 - val_accuracy: 0.8611\n"
     ]
    },
    {
     "data": {
      "text/plain": [
       "<tensorflow.python.keras.callbacks.History at 0x27daaca7b70>"
      ]
     },
     "execution_count": 18,
     "metadata": {},
     "output_type": "execute_result"
    }
   ],
   "source": [
    "model.fit(X_train, Y_train,\n",
    "         validation_data=(X_test, Y_test),\n",
    "         batch_size =16,\n",
    "         epochs =12,\n",
    "         verbose =1)"
   ]
  },
  {
   "cell_type": "code",
   "execution_count": null,
   "metadata": {},
   "outputs": [],
   "source": []
  }
 ],
 "metadata": {
  "kernelspec": {
   "display_name": "Python 3",
   "language": "python",
   "name": "python3"
  },
  "language_info": {
   "codemirror_mode": {
    "name": "ipython",
    "version": 3
   },
   "file_extension": ".py",
   "mimetype": "text/x-python",
   "name": "python",
   "nbconvert_exporter": "python",
   "pygments_lexer": "ipython3",
   "version": "3.6.6"
  }
 },
 "nbformat": 4,
 "nbformat_minor": 4
}
