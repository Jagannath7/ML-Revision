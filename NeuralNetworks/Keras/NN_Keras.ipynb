{
 "cells": [
  {
   "cell_type": "code",
   "execution_count": 1,
   "metadata": {},
   "outputs": [],
   "source": [
    "import numpy as np\n",
    "import matplotlib.pyplot as plt\n",
    "%matplotlib inline"
   ]
  },
  {
   "cell_type": "code",
   "execution_count": 2,
   "metadata": {},
   "outputs": [],
   "source": [
    "from sklearn.datasets import make_circles"
   ]
  },
  {
   "cell_type": "code",
   "execution_count": 3,
   "metadata": {},
   "outputs": [
    {
     "name": "stdout",
     "output_type": "stream",
     "text": [
      "(5000, 2) (5000,)\n"
     ]
    },
    {
     "data": {
      "image/png": "[encoded data removed]",
      "text/plain": [
       "<Figure size 432x288 with 1 Axes>"
      ]
     },
     "metadata": {
      "needs_background": "light"
     },
     "output_type": "display_data"
    }
   ],
   "source": [
    "X, y = make_circles(n_samples=5000, factor= 0.4)\n",
    "print(X.shape, y.shape)\n",
    "\n",
    "plt.scatter(X[:, 0], X[:, 1], c=y)\n",
    "plt.show()"
   ]
  },
  {
   "cell_type": "code",
   "execution_count": 4,
   "metadata": {},
   "outputs": [
    {
     "data": {
      "text/plain": [
       "(array([0, 1], dtype=int64), array([2500, 2500], dtype=int64))"
      ]
     },
     "execution_count": 4,
     "metadata": {},
     "output_type": "execute_result"
    }
   ],
   "source": [
    "np.unique(y, return_counts=True)"
   ]
  },
  {
   "cell_type": "code",
   "execution_count": 5,
   "metadata": {},
   "outputs": [
    {
     "name": "stdout",
     "output_type": "stream",
     "text": [
      "(5000, 2)\n"
     ]
    }
   ],
   "source": [
    "from keras.utils import np_utils\n",
    "Y = np_utils.to_categorical(y)\n",
    "print(Y.shape)"
   ]
  },
  {
   "cell_type": "code",
   "execution_count": 6,
   "metadata": {},
   "outputs": [
    {
     "data": {
      "text/plain": [
       "array([1, 1, 0, 0, 1], dtype=int64)"
      ]
     },
     "execution_count": 6,
     "metadata": {},
     "output_type": "execute_result"
    }
   ],
   "source": [
    "y[:5]"
   ]
  },
  {
   "cell_type": "code",
   "execution_count": 7,
   "metadata": {},
   "outputs": [
    {
     "data": {
      "text/plain": [
       "array([[0., 1.],\n",
       "       [0., 1.],\n",
       "       [1., 0.],\n",
       "       [1., 0.],\n",
       "       [0., 1.]], dtype=float32)"
      ]
     },
     "execution_count": 7,
     "metadata": {},
     "output_type": "execute_result"
    }
   ],
   "source": [
    "Y[:5]"
   ]
  },
  {
   "cell_type": "code",
   "execution_count": 8,
   "metadata": {},
   "outputs": [],
   "source": [
    "from sklearn.model_selection import train_test_split"
   ]
  },
  {
   "cell_type": "code",
   "execution_count": 9,
   "metadata": {},
   "outputs": [],
   "source": [
    "X_train, X_test, Y_train, Y_test = train_test_split(X,Y)"
   ]
  },
  {
   "cell_type": "code",
   "execution_count": 10,
   "metadata": {},
   "outputs": [
    {
     "name": "stdout",
     "output_type": "stream",
     "text": [
      "(3750, 2) (1250, 2)\n",
      "(3750, 2) (1250, 2)\n"
     ]
    }
   ],
   "source": [
    "print(X_train.shape, X_test.shape)\n",
    "print(Y_train.shape, Y_test.shape)"
   ]
  },
  {
   "cell_type": "code",
   "execution_count": 11,
   "metadata": {},
   "outputs": [],
   "source": [
    "from keras.layers import Dense, Activation\n",
    "from keras.models import Sequential"
   ]
  },
  {
   "cell_type": "code",
   "execution_count": 12,
   "metadata": {},
   "outputs": [
    {
     "name": "stdout",
     "output_type": "stream",
     "text": [
      "Model: \"sequential\"\n",
      "_________________________________________________________________\n",
      "Layer (type)                 Output Shape              Param #   \n",
      "=================================================================\n",
      "dense (Dense)                (None, 5)                 15        \n",
      "_________________________________________________________________\n",
      "activation (Activation)      (None, 5)                 0         \n",
      "_________________________________________________________________\n",
      "dense_1 (Dense)              (None, 2)                 12        \n",
      "_________________________________________________________________\n",
      "activation_1 (Activation)    (None, 2)                 0         \n",
      "=================================================================\n",
      "Total params: 27\n",
      "Trainable params: 27\n",
      "Non-trainable params: 0\n",
      "_________________________________________________________________\n"
     ]
    }
   ],
   "source": [
    "# instantiating the model/neural network\n",
    "model = Sequential()\n",
    "\n",
    "# hidden layer with 5 neurons, that takes input of shape 2.\n",
    "model.add(Dense(5, input_shape=(2,)))\n",
    "model.add(Activation('relu'))\n",
    "\n",
    "# output layer\n",
    "model.add(Dense(2))\n",
    "model.add(Activation('softmax'))\n",
    "\n",
    "# summary of the model\n",
    "model.summary()"
   ]
  },
  {
   "cell_type": "code",
   "execution_count": 13,
   "metadata": {},
   "outputs": [],
   "source": [
    "model.compile(optimizer='adam',\n",
    "             loss = 'binary_crossentropy',\n",
    "             metrics=['accuracy'])"
   ]
  },
  {
   "cell_type": "code",
   "execution_count": 17,
   "metadata": {},
   "outputs": [
    {
     "name": "stdout",
     "output_type": "stream",
     "text": [
      "Epoch 1/20\n",
      "WARNING:tensorflow:Callbacks method `on_train_batch_end` is slow compared to the batch time (batch time: 0.0000s vs `on_train_batch_end` time: 0.0096s). Check your callbacks.\n",
      "235/235 - 1s - loss: 0.7330 - accuracy: 0.3597 - val_loss: 0.6992 - val_accuracy: 0.4288\n",
      "Epoch 2/20\n",
      "235/235 - 1s - loss: 0.6713 - accuracy: 0.4805 - val_loss: 0.6399 - val_accuracy: 0.5800\n",
      "Epoch 3/20\n",
      "235/235 - 1s - loss: 0.6114 - accuracy: 0.6475 - val_loss: 0.5758 - val_accuracy: 0.7552\n",
      "Epoch 4/20\n",
      "235/235 - 1s - loss: 0.5428 - accuracy: 0.8536 - val_loss: 0.5037 - val_accuracy: 0.9288\n",
      "Epoch 5/20\n",
      "235/235 - 1s - loss: 0.4658 - accuracy: 0.9464 - val_loss: 0.4226 - val_accuracy: 0.9608\n",
      "Epoch 6/20\n",
      "235/235 - 1s - loss: 0.3847 - accuracy: 0.9909 - val_loss: 0.3433 - val_accuracy: 1.0000\n",
      "Epoch 7/20\n",
      "235/235 - 1s - loss: 0.3098 - accuracy: 1.0000 - val_loss: 0.2738 - val_accuracy: 1.0000\n",
      "Epoch 8/20\n",
      "235/235 - 1s - loss: 0.2475 - accuracy: 1.0000 - val_loss: 0.2186 - val_accuracy: 1.0000\n",
      "Epoch 9/20\n",
      "235/235 - 1s - loss: 0.1977 - accuracy: 1.0000 - val_loss: 0.1752 - val_accuracy: 1.0000\n",
      "Epoch 10/20\n",
      "235/235 - 1s - loss: 0.1586 - accuracy: 1.0000 - val_loss: 0.1409 - val_accuracy: 1.0000\n",
      "Epoch 11/20\n",
      "235/235 - 1s - loss: 0.1280 - accuracy: 1.0000 - val_loss: 0.1141 - val_accuracy: 1.0000\n",
      "Epoch 12/20\n",
      "235/235 - 1s - loss: 0.1041 - accuracy: 1.0000 - val_loss: 0.0933 - val_accuracy: 1.0000\n",
      "Epoch 13/20\n",
      "235/235 - 1s - loss: 0.0854 - accuracy: 1.0000 - val_loss: 0.0768 - val_accuracy: 1.0000\n",
      "Epoch 14/20\n",
      "235/235 - 1s - loss: 0.0705 - accuracy: 1.0000 - val_loss: 0.0636 - val_accuracy: 1.0000\n",
      "Epoch 15/20\n",
      "235/235 - 1s - loss: 0.0586 - accuracy: 1.0000 - val_loss: 0.0530 - val_accuracy: 1.0000\n",
      "Epoch 16/20\n",
      "235/235 - 1s - loss: 0.0491 - accuracy: 1.0000 - val_loss: 0.0444 - val_accuracy: 1.0000\n",
      "Epoch 17/20\n",
      "235/235 - 1s - loss: 0.0413 - accuracy: 1.0000 - val_loss: 0.0375 - val_accuracy: 1.0000\n",
      "Epoch 18/20\n",
      "235/235 - 1s - loss: 0.0350 - accuracy: 1.0000 - val_loss: 0.0318 - val_accuracy: 1.0000\n",
      "Epoch 19/20\n",
      "235/235 - 1s - loss: 0.0298 - accuracy: 1.0000 - val_loss: 0.0271 - val_accuracy: 1.0000\n",
      "Epoch 20/20\n",
      "235/235 - 1s - loss: 0.0254 - accuracy: 1.0000 - val_loss: 0.0232 - val_accuracy: 1.0000\n"
     ]
    },
    {
     "data": {
      "text/plain": [
       "<tensorflow.python.keras.callbacks.History at 0x1e8f72607f0>"
      ]
     },
     "execution_count": 17,
     "metadata": {},
     "output_type": "execute_result"
    }
   ],
   "source": [
    "model.fit(X_train, Y_train,\n",
    "         batch_size=16, # no. of examples to be checked before updating the params.\n",
    "         epochs=20,\n",
    "         verbose=2,\n",
    "         validation_data=(X_test, Y_test))"
   ]
  }
 ],
 "metadata": {
  "kernelspec": {
   "display_name": "Python 3",
   "language": "python",
   "name": "python3"
  },
  "language_info": {
   "codemirror_mode": {
    "name": "ipython",
    "version": 3
   },
   "file_extension": ".py",
   "mimetype": "text/x-python",
   "name": "python",
   "nbconvert_exporter": "python",
   "pygments_lexer": "ipython3",
   "version": "3.6.6"
  }
 },
 "nbformat": 4,
 "nbformat_minor": 4
}
