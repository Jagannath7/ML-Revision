{
 "cells": [
  {
   "cell_type": "code",
   "execution_count": 1,
   "metadata": {},
   "outputs": [],
   "source": [
    "import numpy as np\n",
    "import matplotlib.pyplot as plt\n",
    "%matplotlib inline"
   ]
  },
  {
   "cell_type": "code",
   "execution_count": 2,
   "metadata": {},
   "outputs": [],
   "source": [
    "from keras.models import Sequential\n",
    "from keras.layers import Dense, Activation"
   ]
  },
  {
   "cell_type": "code",
   "execution_count": 3,
   "metadata": {},
   "outputs": [],
   "source": [
    "from keras.datasets import boston_housing"
   ]
  },
  {
   "cell_type": "code",
   "execution_count": 4,
   "metadata": {},
   "outputs": [
    {
     "name": "stdout",
     "output_type": "stream",
     "text": [
      "Downloading data from https://storage.googleapis.com/tensorflow/tf-keras-datasets/boston_housing.npz\n",
      "57344/57026 [==============================] - 0s 0us/step\n"
     ]
    }
   ],
   "source": [
    "(X_train, y_train), (X_test, y_test) = boston_housing.load_data()"
   ]
  },
  {
   "cell_type": "code",
   "execution_count": 5,
   "metadata": {},
   "outputs": [
    {
     "name": "stdout",
     "output_type": "stream",
     "text": [
      "(404, 13) (102, 13)\n",
      "(404,) (102,)\n"
     ]
    }
   ],
   "source": [
    "print(X_train.shape, X_test.shape)\n",
    "print(y_train.shape, y_test.shape)"
   ]
  },
  {
   "cell_type": "code",
   "execution_count": 10,
   "metadata": {},
   "outputs": [
    {
     "name": "stdout",
     "output_type": "stream",
     "text": [
      "Model: \"sequential_2\"\n",
      "_________________________________________________________________\n",
      "Layer (type)                 Output Shape              Param #   \n",
      "=================================================================\n",
      "dense_8 (Dense)              (None, 100)               1400      \n",
      "_________________________________________________________________\n",
      "activation_8 (Activation)    (None, 100)               0         \n",
      "_________________________________________________________________\n",
      "dense_9 (Dense)              (None, 100)               10100     \n",
      "_________________________________________________________________\n",
      "activation_9 (Activation)    (None, 100)               0         \n",
      "_________________________________________________________________\n",
      "dense_10 (Dense)             (None, 100)               10100     \n",
      "_________________________________________________________________\n",
      "activation_10 (Activation)   (None, 100)               0         \n",
      "_________________________________________________________________\n",
      "dense_11 (Dense)             (None, 100)               10100     \n",
      "_________________________________________________________________\n",
      "activation_11 (Activation)   (None, 100)               0         \n",
      "_________________________________________________________________\n",
      "dense_12 (Dense)             (None, 1)                 101       \n",
      "_________________________________________________________________\n",
      "activation_12 (Activation)   (None, 1)                 0         \n",
      "=================================================================\n",
      "Total params: 31,801\n",
      "Trainable params: 31,801\n",
      "Non-trainable params: 0\n",
      "_________________________________________________________________\n"
     ]
    }
   ],
   "source": [
    "model = Sequential()\n",
    "\n",
    "model.add(Dense(100, input_shape=(13, )))\n",
    "model.add(Activation('relu'))\n",
    "\n",
    "model.add(Dense(100))\n",
    "model.add(Activation('relu'))\n",
    "\n",
    "model.add(Dense(100))\n",
    "model.add(Activation('relu'))\n",
    "\n",
    "model.add(Dense(100))\n",
    "model.add(Activation('relu'))\n",
    "          \n",
    "model.add(Dense(1))\n",
    "model.add(Activation('linear'))\n",
    "          \n",
    "model.summary()"
   ]
  },
  {
   "cell_type": "code",
   "execution_count": 11,
   "metadata": {},
   "outputs": [],
   "source": [
    "model.compile(optimizer='adam',\n",
    "             loss='mean_squared_error',\n",
    "             metrics=['mse'])"
   ]
  },
  {
   "cell_type": "code",
   "execution_count": 12,
   "metadata": {},
   "outputs": [
    {
     "name": "stdout",
     "output_type": "stream",
     "text": [
      "Epoch 1/50\n",
      "13/13 - 0s - loss: 199.7043 - mse: 199.7043 - val_loss: 99.1212 - val_mse: 99.1212\n",
      "Epoch 2/50\n",
      "13/13 - 0s - loss: 79.3167 - mse: 79.3167 - val_loss: 68.0152 - val_mse: 68.0152\n",
      "Epoch 3/50\n",
      "13/13 - 0s - loss: 63.0735 - mse: 63.0735 - val_loss: 64.5915 - val_mse: 64.5915\n",
      "Epoch 4/50\n",
      "13/13 - 0s - loss: 61.9881 - mse: 61.9881 - val_loss: 64.6516 - val_mse: 64.6516\n",
      "Epoch 5/50\n",
      "13/13 - 0s - loss: 62.0539 - mse: 62.0539 - val_loss: 60.5969 - val_mse: 60.5969\n",
      "Epoch 6/50\n",
      "13/13 - 0s - loss: 59.3823 - mse: 59.3823 - val_loss: 64.2104 - val_mse: 64.2104\n",
      "Epoch 7/50\n",
      "13/13 - 0s - loss: 56.4798 - mse: 56.4798 - val_loss: 68.0726 - val_mse: 68.0726\n",
      "Epoch 8/50\n",
      "13/13 - 0s - loss: 60.7005 - mse: 60.7005 - val_loss: 58.7776 - val_mse: 58.7776\n",
      "Epoch 9/50\n",
      "13/13 - 0s - loss: 58.8134 - mse: 58.8134 - val_loss: 60.7094 - val_mse: 60.7094\n",
      "Epoch 10/50\n",
      "13/13 - 0s - loss: 53.4921 - mse: 53.4921 - val_loss: 54.7049 - val_mse: 54.7049\n",
      "Epoch 11/50\n",
      "13/13 - 0s - loss: 52.4306 - mse: 52.4306 - val_loss: 54.0275 - val_mse: 54.0275\n",
      "Epoch 12/50\n",
      "13/13 - 0s - loss: 50.9434 - mse: 50.9434 - val_loss: 59.2768 - val_mse: 59.2768\n",
      "Epoch 13/50\n",
      "13/13 - 0s - loss: 54.0794 - mse: 54.0794 - val_loss: 53.4423 - val_mse: 53.4423\n",
      "Epoch 14/50\n",
      "13/13 - 0s - loss: 48.2880 - mse: 48.2880 - val_loss: 60.4490 - val_mse: 60.4490\n",
      "Epoch 15/50\n",
      "13/13 - 0s - loss: 51.0744 - mse: 51.0744 - val_loss: 49.4760 - val_mse: 49.4760\n",
      "Epoch 16/50\n",
      "13/13 - 0s - loss: 43.9591 - mse: 43.9591 - val_loss: 48.9895 - val_mse: 48.9895\n",
      "Epoch 17/50\n",
      "13/13 - 0s - loss: 42.7305 - mse: 42.7305 - val_loss: 53.4309 - val_mse: 53.4309\n",
      "Epoch 18/50\n",
      "13/13 - 0s - loss: 49.5053 - mse: 49.5053 - val_loss: 60.7810 - val_mse: 60.7810\n",
      "Epoch 19/50\n",
      "13/13 - 0s - loss: 42.9154 - mse: 42.9154 - val_loss: 47.4618 - val_mse: 47.4618\n",
      "Epoch 20/50\n",
      "13/13 - 0s - loss: 38.4743 - mse: 38.4743 - val_loss: 43.2430 - val_mse: 43.2430\n",
      "Epoch 21/50\n",
      "13/13 - 0s - loss: 38.0515 - mse: 38.0515 - val_loss: 42.5342 - val_mse: 42.5342\n",
      "Epoch 22/50\n",
      "13/13 - 0s - loss: 39.1618 - mse: 39.1618 - val_loss: 46.6483 - val_mse: 46.6483\n",
      "Epoch 23/50\n",
      "13/13 - 0s - loss: 35.7434 - mse: 35.7434 - val_loss: 40.0031 - val_mse: 40.0031\n",
      "Epoch 24/50\n",
      "13/13 - 0s - loss: 36.0147 - mse: 36.0147 - val_loss: 36.8317 - val_mse: 36.8317\n",
      "Epoch 25/50\n",
      "13/13 - 0s - loss: 38.6940 - mse: 38.6940 - val_loss: 59.7994 - val_mse: 59.7994\n",
      "Epoch 26/50\n",
      "13/13 - 0s - loss: 44.1258 - mse: 44.1258 - val_loss: 39.0869 - val_mse: 39.0869\n",
      "Epoch 27/50\n",
      "13/13 - 0s - loss: 39.7535 - mse: 39.7535 - val_loss: 52.4390 - val_mse: 52.4390\n",
      "Epoch 28/50\n",
      "13/13 - 0s - loss: 37.2842 - mse: 37.2842 - val_loss: 49.6822 - val_mse: 49.6822\n",
      "Epoch 29/50\n",
      "13/13 - 0s - loss: 34.5983 - mse: 34.5983 - val_loss: 36.9864 - val_mse: 36.9864\n",
      "Epoch 30/50\n",
      "13/13 - 0s - loss: 32.3977 - mse: 32.3977 - val_loss: 43.8124 - val_mse: 43.8124\n",
      "Epoch 31/50\n",
      "13/13 - 0s - loss: 29.5132 - mse: 29.5132 - val_loss: 37.3176 - val_mse: 37.3176\n",
      "Epoch 32/50\n",
      "13/13 - 0s - loss: 23.8832 - mse: 23.8832 - val_loss: 44.7741 - val_mse: 44.7741\n",
      "Epoch 33/50\n",
      "13/13 - 0s - loss: 33.7609 - mse: 33.7609 - val_loss: 34.4704 - val_mse: 34.4704\n",
      "Epoch 34/50\n",
      "13/13 - 0s - loss: 26.3774 - mse: 26.3774 - val_loss: 32.8575 - val_mse: 32.8575\n",
      "Epoch 35/50\n",
      "13/13 - 0s - loss: 24.0981 - mse: 24.0981 - val_loss: 28.4249 - val_mse: 28.4249\n",
      "Epoch 36/50\n",
      "13/13 - 0s - loss: 23.4721 - mse: 23.4721 - val_loss: 29.1637 - val_mse: 29.1637\n",
      "Epoch 37/50\n",
      "13/13 - 0s - loss: 22.7072 - mse: 22.7072 - val_loss: 28.1229 - val_mse: 28.1229\n",
      "Epoch 38/50\n",
      "13/13 - 0s - loss: 20.5343 - mse: 20.5343 - val_loss: 28.5889 - val_mse: 28.5889\n",
      "Epoch 39/50\n",
      "13/13 - 0s - loss: 19.0706 - mse: 19.0706 - val_loss: 35.6800 - val_mse: 35.6800\n",
      "Epoch 40/50\n",
      "13/13 - 0s - loss: 24.4362 - mse: 24.4362 - val_loss: 53.6406 - val_mse: 53.6406\n",
      "Epoch 41/50\n",
      "13/13 - 0s - loss: 24.1008 - mse: 24.1008 - val_loss: 41.7787 - val_mse: 41.7787\n",
      "Epoch 42/50\n",
      "13/13 - 0s - loss: 20.5021 - mse: 20.5021 - val_loss: 30.3437 - val_mse: 30.3437\n",
      "Epoch 43/50\n",
      "13/13 - 0s - loss: 19.7942 - mse: 19.7942 - val_loss: 27.8375 - val_mse: 27.8375\n",
      "Epoch 44/50\n",
      "13/13 - 0s - loss: 18.6103 - mse: 18.6103 - val_loss: 35.1607 - val_mse: 35.1607\n",
      "Epoch 45/50\n",
      "13/13 - 0s - loss: 18.9192 - mse: 18.9192 - val_loss: 29.5616 - val_mse: 29.5616\n",
      "Epoch 46/50\n",
      "13/13 - 0s - loss: 15.5233 - mse: 15.5233 - val_loss: 26.1183 - val_mse: 26.1183\n",
      "Epoch 47/50\n",
      "13/13 - 0s - loss: 16.6701 - mse: 16.6701 - val_loss: 27.6050 - val_mse: 27.6050\n",
      "Epoch 48/50\n",
      "13/13 - 0s - loss: 16.2511 - mse: 16.2511 - val_loss: 52.0747 - val_mse: 52.0747\n",
      "Epoch 49/50\n",
      "13/13 - 0s - loss: 30.8499 - mse: 30.8499 - val_loss: 29.3979 - val_mse: 29.3979\n",
      "Epoch 50/50\n",
      "13/13 - 0s - loss: 22.6119 - mse: 22.6119 - val_loss: 30.9569 - val_mse: 30.9569\n"
     ]
    },
    {
     "data": {
      "text/plain": [
       "<tensorflow.python.keras.callbacks.History at 0x1ff6f9e7c50>"
      ]
     },
     "execution_count": 12,
     "metadata": {},
     "output_type": "execute_result"
    }
   ],
   "source": [
    "model.fit(X_train, y_train,\n",
    "         batch_size=32, epochs=50,\n",
    "         verbose=2,\n",
    "         validation_data=(X_test, y_test))"
   ]
  },
  {
   "cell_type": "code",
   "execution_count": 15,
   "metadata": {},
   "outputs": [
    {
     "name": "stdout",
     "output_type": "stream",
     "text": [
      "[13.118798  20.561644  24.482141  31.772991  25.555166  23.150946\n",
      " 32.28057   27.238167  22.185106  23.051836  12.655065  21.189342\n",
      " 19.245373  39.722034  19.20152   25.179195  25.749186  22.887243\n",
      " 22.071081  27.357618  12.897135  14.511524  22.223858  19.59232\n",
      " 25.720951  25.290308  26.106718  42.447212  14.658403  26.39645\n",
      " 24.017675  15.7955885 33.290745  24.279041  21.411297  13.342497\n",
      " 15.942677  12.021821  23.21353   32.546856  29.290758  25.393663\n",
      " 19.021835  31.424904  41.53644   27.223164  32.096992  21.815344\n",
      " 28.13671   24.245     39.6275    22.055466  14.77307   21.01393\n",
      " 33.785065  28.06266   16.43684   34.291836  35.948574  27.140972\n",
      " 24.434626  20.196217  18.446619  23.761684  27.579462  29.715132\n",
      " 15.755531  29.294441  15.626795  12.824635  25.999365  30.028435\n",
      " 25.051435  16.490133  26.701117  22.515448  26.221035  23.886515\n",
      " 36.48755   13.777248  22.288656  37.869053  20.147024  17.953577\n",
      " 22.82432   21.400425  22.46894   21.933176  22.940084  30.70887\n",
      " 22.334341  27.190166  24.11204   31.626701  36.427574  20.98806\n",
      " 36.599846  38.51633   26.442364  49.67252   26.59661   16.356297 ]\n"
     ]
    }
   ],
   "source": [
    "print(model.predict(X_test).flatten())"
   ]
  },
  {
   "cell_type": "code",
   "execution_count": 16,
   "metadata": {},
   "outputs": [
    {
     "name": "stdout",
     "output_type": "stream",
     "text": [
      "[ 7.2 18.8 19.  27.  22.2 24.5 31.2 22.9 20.5 23.2 18.6 14.5 17.8 50.\n",
      " 20.8 24.3 24.2 19.8 19.1 22.7 12.  10.2 20.  18.5 20.9 23.  27.5 30.1\n",
      "  9.5 22.  21.2 14.1 33.1 23.4 20.1  7.4 15.4 23.8 20.1 24.5 33.  28.4\n",
      " 14.1 46.7 32.5 29.6 28.4 19.8 20.2 25.  35.4 20.3  9.7 14.5 34.9 26.6\n",
      "  7.2 50.  32.4 21.6 29.8 13.1 27.5 21.2 23.1 21.9 13.  23.2  8.1  5.6\n",
      " 21.7 29.6 19.6  7.  26.4 18.9 20.9 28.1 35.4 10.2 24.3 43.1 17.6 15.4\n",
      " 16.2 27.1 21.4 21.5 22.4 25.  16.6 18.6 22.  42.8 35.1 21.5 36.  21.9\n",
      " 24.1 50.  26.7 25. ]\n"
     ]
    }
   ],
   "source": [
    "print(y_test)"
   ]
  },
  {
   "cell_type": "code",
   "execution_count": 17,
   "metadata": {},
   "outputs": [
    {
     "data": {
      "text/plain": [
       "array([30.95693499])"
      ]
     },
     "execution_count": 17,
     "metadata": {},
     "output_type": "execute_result"
    }
   ],
   "source": [
    "np.sum((y_test - model.predict(X_test).flatten())**2)/y_test.shape"
   ]
  },
  {
   "cell_type": "code",
   "execution_count": 18,
   "metadata": {},
   "outputs": [],
   "source": [
    "y_pred = model.predict(X_test).flatten()"
   ]
  },
  {
   "cell_type": "code",
   "execution_count": 19,
   "metadata": {},
   "outputs": [
    {
     "data": {
      "image/png": "[encoded data removed]",
      "text/plain": [
       "<Figure size 432x288 with 1 Axes>"
      ]
     },
     "metadata": {
      "needs_background": "light"
     },
     "output_type": "display_data"
    }
   ],
   "source": [
    "plt.scatter(y_test, y_pred)\n",
    "plt.show()"
   ]
  },
  {
   "cell_type": "code",
   "execution_count": 20,
   "metadata": {},
   "outputs": [
    {
     "data": {
      "image/png": "[encoded data removed]",
      "text/plain": [
       "<Figure size 432x288 with 1 Axes>"
      ]
     },
     "metadata": {
      "needs_background": "light"
     },
     "output_type": "display_data"
    }
   ],
   "source": [
    "plt.hist(y_test-y_pred)\n",
    "plt.show()"
   ]
  },
  {
   "cell_type": "code",
   "execution_count": 21,
   "metadata": {},
   "outputs": [
    {
     "data": {
      "image/png": "[encoded data removed]",
      "text/plain": [
       "<Figure size 432x288 with 1 Axes>"
      ]
     },
     "metadata": {
      "needs_background": "light"
     },
     "output_type": "display_data"
    }
   ],
   "source": [
    "plt.hist(abs(y_test-y_pred))\n",
    "plt.show()"
   ]
  }
 ],
 "metadata": {
  "kernelspec": {
   "display_name": "Python 3",
   "language": "python",
   "name": "python3"
  },
  "language_info": {
   "codemirror_mode": {
    "name": "ipython",
    "version": 3
   },
   "file_extension": ".py",
   "mimetype": "text/x-python",
   "name": "python",
   "nbconvert_exporter": "python",
   "pygments_lexer": "ipython3",
   "version": "3.6.6"
  }
 },
 "nbformat": 4,
 "nbformat_minor": 4
}
